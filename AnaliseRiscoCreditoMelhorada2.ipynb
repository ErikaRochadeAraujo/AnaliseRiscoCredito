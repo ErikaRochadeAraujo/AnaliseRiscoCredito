{
  "nbformat": 4,
  "nbformat_minor": 0,
  "metadata": {
    "colab": {
      "provenance": [],
      "include_colab_link": true
    },
    "kernelspec": {
      "name": "python3",
      "display_name": "Python 3"
    },
    "language_info": {
      "name": "python"
    }
  },
  "cells": [
    {
      "cell_type": "markdown",
      "metadata": {
        "id": "view-in-github",
        "colab_type": "text"
      },
      "source": [
        "<a href=\"https://colab.research.google.com/github/ErikaRochadeAraujo/AnaliseRiscoCredito/blob/main/AnaliseRiscoCreditoMelhorada2.ipynb\" target=\"_parent\"><img src=\"https://colab.research.google.com/assets/colab-badge.svg\" alt=\"Open In Colab\"/></a>"
      ]
    },
    {
      "cell_type": "code",
      "execution_count": 200,
      "metadata": {
        "id": "Asm1N9g_IVJK"
      },
      "outputs": [],
      "source": [
        "import pandas as pd\n",
        "import numpy as np\n",
        "import seaborn as sns\n",
        "import matplotlib.pyplot as plt\n",
        "\n",
        "from sklearn.dummy import DummyClassifier\n",
        "from sklearn.tree import DecisionTreeClassifier, plot_tree\n",
        "from sklearn.linear_model import LogisticRegression\n",
        "from sklearn.preprocessing import LabelEncoder\n",
        "\n",
        "from sklearn.model_selection import train_test_split, GridSearchCV, StratifiedKFold, cross_val_score\n",
        "from sklearn.metrics import accuracy_score, confusion_matrix, classification_report\n",
        "from sklearn.metrics import roc_curve, roc_auc_score\n",
        "from sklearn.metrics import accuracy_score\n"
      ]
    },
    {
      "cell_type": "code",
      "source": [
        "df = pd.read_csv('https://raw.githubusercontent.com/ErikaRochadeAraujo/AnaliseRiscoCredito/main/credit_risk.csv')"
      ],
      "metadata": {
        "id": "RDAcKPHaJIOr"
      },
      "execution_count": 215,
      "outputs": []
    },
    {
      "cell_type": "markdown",
      "source": [
        "- Age (numeric)\n",
        "- Sex (text: male, female)\n",
        "- Job (numeric: 0 - unskilled and non-resident, 1 - unskilled and resident, 2 - skilled, 3 - highly skilled)\n",
        "- Housing (text: own, rent, or free)\n",
        "- Saving accounts (text - little, moderate, quite rich, rich)\n",
        "- Checking account (numeric, in DM - Deutsch Mark)\n",
        "- Credit amount (numeric, in DM)\n",
        "- Duration (numeric, in month)\n",
        "- Purpose (text: car, furniture/equipment, radio/TV, domestic appliances, repairs, education, business, vacation/others)"
      ],
      "metadata": {
        "id": "-d0V6HBuL-Xa"
      }
    },
    {
      "cell_type": "markdown",
      "source": [
        "Deutsche Mark"
      ],
      "metadata": {
        "id": "OFhuDvgeMJri"
      }
    },
    {
      "cell_type": "code",
      "source": [
        "df.columns"
      ],
      "metadata": {
        "colab": {
          "base_uri": "https://localhost:8080/"
        },
        "id": "0aeOmEFWJLQg",
        "outputId": "ead69188-47ec-4606-c670-9e6d5c75a518"
      },
      "execution_count": 202,
      "outputs": [
        {
          "output_type": "execute_result",
          "data": {
            "text/plain": [
              "Index(['default', 'conta_corrente', 'prazo_emprestimo_meses',\n",
              "       'historico_credito', 'proposito_emprestimo', 'valor_emprestimo',\n",
              "       'reserva_cc', 'tempo_emprego_atual', 'taxa_comp_salario',\n",
              "       'sexo_est_civil', 'outros_fiadores', 'anos_residencia_atual',\n",
              "       'propriedade', 'idade', 'outros_planos_financiamento',\n",
              "       'tipo_residencia', 'n_creditos_banco', 'status_emprego',\n",
              "       'n_dependentes', 'telefone', 'trabalhador_estrangeiro'],\n",
              "      dtype='object')"
            ]
          },
          "metadata": {},
          "execution_count": 202
        }
      ]
    },
    {
      "cell_type": "code",
      "source": [
        "df.head()"
      ],
      "metadata": {
        "colab": {
          "base_uri": "https://localhost:8080/",
          "height": 508
        },
        "id": "magW9J61JLoa",
        "outputId": "79468de8-f890-4d82-d297-3ef66e28cda7"
      },
      "execution_count": 4,
      "outputs": [
        {
          "output_type": "execute_result",
          "data": {
            "text/plain": [
              "   default       conta_corrente  prazo_emprestimo_meses  \\\n",
              "0        0               < 0 DM                       6   \n",
              "1        1    0 <= ... < 200 DM                      48   \n",
              "2        0  no checking account                      12   \n",
              "3        0               < 0 DM                      42   \n",
              "4        1               < 0 DM                      24   \n",
              "\n",
              "                                   historico_credito  \\\n",
              "0  critical account/ other credits existing (not ...   \n",
              "1           existing credits paid back duly till now   \n",
              "2  critical account/ other credits existing (not ...   \n",
              "3           existing credits paid back duly till now   \n",
              "4                    delay in paying off in the past   \n",
              "\n",
              "           proposito_emprestimo  valor_emprestimo  \\\n",
              "0           domestic appliances              1169   \n",
              "1           domestic appliances              5951   \n",
              "2  (vacation - does not exist?)              2096   \n",
              "3              radio/television              7882   \n",
              "4                     car (new)              4870   \n",
              "\n",
              "                    reserva_cc tempo_emprego_atual  taxa_comp_salario  \\\n",
              "0  unknown/ no savings account       .. >= 7 years                  4   \n",
              "1                 ... < 100 DM  1 <= ... < 4 years                  2   \n",
              "2                 ... < 100 DM  4 <= ... < 7 years                  2   \n",
              "3                 ... < 100 DM  4 <= ... < 7 years                  2   \n",
              "4                 ... < 100 DM  1 <= ... < 4 years                  3   \n",
              "\n",
              "                        sexo_est_civil  ... anos_residencia_atual  \\\n",
              "0                        male : single  ...                     4   \n",
              "1  female : divorced/separated/married  ...                     2   \n",
              "2                        male : single  ...                     3   \n",
              "3                        male : single  ...                     4   \n",
              "4                        male : single  ...                     4   \n",
              "\n",
              "                                         propriedade idade  \\\n",
              "0                                        real estate    67   \n",
              "1                                        real estate    22   \n",
              "2                                        real estate    49   \n",
              "3  if not A121 : building society savings agreeme...    45   \n",
              "4                              unknown / no property    53   \n",
              "\n",
              "   outros_planos_financiamento tipo_residencia n_creditos_banco  \\\n",
              "0                         none             own                2   \n",
              "1                         none             own                1   \n",
              "2                         none             own                1   \n",
              "3                         none        for free                1   \n",
              "4                         none        for free                2   \n",
              "\n",
              "                status_emprego n_dependentes  \\\n",
              "0  skilled employee / official             1   \n",
              "1  skilled employee / official             1   \n",
              "2         unskilled - resident             2   \n",
              "3  skilled employee / official             2   \n",
              "4  skilled employee / official             2   \n",
              "\n",
              "                                    telefone trabalhador_estrangeiro  \n",
              "0  yes, registered under the customers name                      yes  \n",
              "1                                       none                     yes  \n",
              "2                                       none                     yes  \n",
              "3                                       none                     yes  \n",
              "4                                       none                     yes  \n",
              "\n",
              "[5 rows x 21 columns]"
            ],
            "text/html": [
              "\n",
              "  <div id=\"df-68f2f401-dfb5-4bef-a15d-b8b8116d56ee\">\n",
              "    <div class=\"colab-df-container\">\n",
              "      <div>\n",
              "<style scoped>\n",
              "    .dataframe tbody tr th:only-of-type {\n",
              "        vertical-align: middle;\n",
              "    }\n",
              "\n",
              "    .dataframe tbody tr th {\n",
              "        vertical-align: top;\n",
              "    }\n",
              "\n",
              "    .dataframe thead th {\n",
              "        text-align: right;\n",
              "    }\n",
              "</style>\n",
              "<table border=\"1\" class=\"dataframe\">\n",
              "  <thead>\n",
              "    <tr style=\"text-align: right;\">\n",
              "      <th></th>\n",
              "      <th>default</th>\n",
              "      <th>conta_corrente</th>\n",
              "      <th>prazo_emprestimo_meses</th>\n",
              "      <th>historico_credito</th>\n",
              "      <th>proposito_emprestimo</th>\n",
              "      <th>valor_emprestimo</th>\n",
              "      <th>reserva_cc</th>\n",
              "      <th>tempo_emprego_atual</th>\n",
              "      <th>taxa_comp_salario</th>\n",
              "      <th>sexo_est_civil</th>\n",
              "      <th>...</th>\n",
              "      <th>anos_residencia_atual</th>\n",
              "      <th>propriedade</th>\n",
              "      <th>idade</th>\n",
              "      <th>outros_planos_financiamento</th>\n",
              "      <th>tipo_residencia</th>\n",
              "      <th>n_creditos_banco</th>\n",
              "      <th>status_emprego</th>\n",
              "      <th>n_dependentes</th>\n",
              "      <th>telefone</th>\n",
              "      <th>trabalhador_estrangeiro</th>\n",
              "    </tr>\n",
              "  </thead>\n",
              "  <tbody>\n",
              "    <tr>\n",
              "      <th>0</th>\n",
              "      <td>0</td>\n",
              "      <td>&lt; 0 DM</td>\n",
              "      <td>6</td>\n",
              "      <td>critical account/ other credits existing (not ...</td>\n",
              "      <td>domestic appliances</td>\n",
              "      <td>1169</td>\n",
              "      <td>unknown/ no savings account</td>\n",
              "      <td>.. &gt;= 7 years</td>\n",
              "      <td>4</td>\n",
              "      <td>male : single</td>\n",
              "      <td>...</td>\n",
              "      <td>4</td>\n",
              "      <td>real estate</td>\n",
              "      <td>67</td>\n",
              "      <td>none</td>\n",
              "      <td>own</td>\n",
              "      <td>2</td>\n",
              "      <td>skilled employee / official</td>\n",
              "      <td>1</td>\n",
              "      <td>yes, registered under the customers name</td>\n",
              "      <td>yes</td>\n",
              "    </tr>\n",
              "    <tr>\n",
              "      <th>1</th>\n",
              "      <td>1</td>\n",
              "      <td>0 &lt;= ... &lt; 200 DM</td>\n",
              "      <td>48</td>\n",
              "      <td>existing credits paid back duly till now</td>\n",
              "      <td>domestic appliances</td>\n",
              "      <td>5951</td>\n",
              "      <td>... &lt; 100 DM</td>\n",
              "      <td>1 &lt;= ... &lt; 4 years</td>\n",
              "      <td>2</td>\n",
              "      <td>female : divorced/separated/married</td>\n",
              "      <td>...</td>\n",
              "      <td>2</td>\n",
              "      <td>real estate</td>\n",
              "      <td>22</td>\n",
              "      <td>none</td>\n",
              "      <td>own</td>\n",
              "      <td>1</td>\n",
              "      <td>skilled employee / official</td>\n",
              "      <td>1</td>\n",
              "      <td>none</td>\n",
              "      <td>yes</td>\n",
              "    </tr>\n",
              "    <tr>\n",
              "      <th>2</th>\n",
              "      <td>0</td>\n",
              "      <td>no checking account</td>\n",
              "      <td>12</td>\n",
              "      <td>critical account/ other credits existing (not ...</td>\n",
              "      <td>(vacation - does not exist?)</td>\n",
              "      <td>2096</td>\n",
              "      <td>... &lt; 100 DM</td>\n",
              "      <td>4 &lt;= ... &lt; 7 years</td>\n",
              "      <td>2</td>\n",
              "      <td>male : single</td>\n",
              "      <td>...</td>\n",
              "      <td>3</td>\n",
              "      <td>real estate</td>\n",
              "      <td>49</td>\n",
              "      <td>none</td>\n",
              "      <td>own</td>\n",
              "      <td>1</td>\n",
              "      <td>unskilled - resident</td>\n",
              "      <td>2</td>\n",
              "      <td>none</td>\n",
              "      <td>yes</td>\n",
              "    </tr>\n",
              "    <tr>\n",
              "      <th>3</th>\n",
              "      <td>0</td>\n",
              "      <td>&lt; 0 DM</td>\n",
              "      <td>42</td>\n",
              "      <td>existing credits paid back duly till now</td>\n",
              "      <td>radio/television</td>\n",
              "      <td>7882</td>\n",
              "      <td>... &lt; 100 DM</td>\n",
              "      <td>4 &lt;= ... &lt; 7 years</td>\n",
              "      <td>2</td>\n",
              "      <td>male : single</td>\n",
              "      <td>...</td>\n",
              "      <td>4</td>\n",
              "      <td>if not A121 : building society savings agreeme...</td>\n",
              "      <td>45</td>\n",
              "      <td>none</td>\n",
              "      <td>for free</td>\n",
              "      <td>1</td>\n",
              "      <td>skilled employee / official</td>\n",
              "      <td>2</td>\n",
              "      <td>none</td>\n",
              "      <td>yes</td>\n",
              "    </tr>\n",
              "    <tr>\n",
              "      <th>4</th>\n",
              "      <td>1</td>\n",
              "      <td>&lt; 0 DM</td>\n",
              "      <td>24</td>\n",
              "      <td>delay in paying off in the past</td>\n",
              "      <td>car (new)</td>\n",
              "      <td>4870</td>\n",
              "      <td>... &lt; 100 DM</td>\n",
              "      <td>1 &lt;= ... &lt; 4 years</td>\n",
              "      <td>3</td>\n",
              "      <td>male : single</td>\n",
              "      <td>...</td>\n",
              "      <td>4</td>\n",
              "      <td>unknown / no property</td>\n",
              "      <td>53</td>\n",
              "      <td>none</td>\n",
              "      <td>for free</td>\n",
              "      <td>2</td>\n",
              "      <td>skilled employee / official</td>\n",
              "      <td>2</td>\n",
              "      <td>none</td>\n",
              "      <td>yes</td>\n",
              "    </tr>\n",
              "  </tbody>\n",
              "</table>\n",
              "<p>5 rows × 21 columns</p>\n",
              "</div>\n",
              "      <button class=\"colab-df-convert\" onclick=\"convertToInteractive('df-68f2f401-dfb5-4bef-a15d-b8b8116d56ee')\"\n",
              "              title=\"Convert this dataframe to an interactive table.\"\n",
              "              style=\"display:none;\">\n",
              "        \n",
              "  <svg xmlns=\"http://www.w3.org/2000/svg\" height=\"24px\"viewBox=\"0 0 24 24\"\n",
              "       width=\"24px\">\n",
              "    <path d=\"M0 0h24v24H0V0z\" fill=\"none\"/>\n",
              "    <path d=\"M18.56 5.44l.94 2.06.94-2.06 2.06-.94-2.06-.94-.94-2.06-.94 2.06-2.06.94zm-11 1L8.5 8.5l.94-2.06 2.06-.94-2.06-.94L8.5 2.5l-.94 2.06-2.06.94zm10 10l.94 2.06.94-2.06 2.06-.94-2.06-.94-.94-2.06-.94 2.06-2.06.94z\"/><path d=\"M17.41 7.96l-1.37-1.37c-.4-.4-.92-.59-1.43-.59-.52 0-1.04.2-1.43.59L10.3 9.45l-7.72 7.72c-.78.78-.78 2.05 0 2.83L4 21.41c.39.39.9.59 1.41.59.51 0 1.02-.2 1.41-.59l7.78-7.78 2.81-2.81c.8-.78.8-2.07 0-2.86zM5.41 20L4 18.59l7.72-7.72 1.47 1.35L5.41 20z\"/>\n",
              "  </svg>\n",
              "      </button>\n",
              "      \n",
              "  <style>\n",
              "    .colab-df-container {\n",
              "      display:flex;\n",
              "      flex-wrap:wrap;\n",
              "      gap: 12px;\n",
              "    }\n",
              "\n",
              "    .colab-df-convert {\n",
              "      background-color: #E8F0FE;\n",
              "      border: none;\n",
              "      border-radius: 50%;\n",
              "      cursor: pointer;\n",
              "      display: none;\n",
              "      fill: #1967D2;\n",
              "      height: 32px;\n",
              "      padding: 0 0 0 0;\n",
              "      width: 32px;\n",
              "    }\n",
              "\n",
              "    .colab-df-convert:hover {\n",
              "      background-color: #E2EBFA;\n",
              "      box-shadow: 0px 1px 2px rgba(60, 64, 67, 0.3), 0px 1px 3px 1px rgba(60, 64, 67, 0.15);\n",
              "      fill: #174EA6;\n",
              "    }\n",
              "\n",
              "    [theme=dark] .colab-df-convert {\n",
              "      background-color: #3B4455;\n",
              "      fill: #D2E3FC;\n",
              "    }\n",
              "\n",
              "    [theme=dark] .colab-df-convert:hover {\n",
              "      background-color: #434B5C;\n",
              "      box-shadow: 0px 1px 3px 1px rgba(0, 0, 0, 0.15);\n",
              "      filter: drop-shadow(0px 1px 2px rgba(0, 0, 0, 0.3));\n",
              "      fill: #FFFFFF;\n",
              "    }\n",
              "  </style>\n",
              "\n",
              "      <script>\n",
              "        const buttonEl =\n",
              "          document.querySelector('#df-68f2f401-dfb5-4bef-a15d-b8b8116d56ee button.colab-df-convert');\n",
              "        buttonEl.style.display =\n",
              "          google.colab.kernel.accessAllowed ? 'block' : 'none';\n",
              "\n",
              "        async function convertToInteractive(key) {\n",
              "          const element = document.querySelector('#df-68f2f401-dfb5-4bef-a15d-b8b8116d56ee');\n",
              "          const dataTable =\n",
              "            await google.colab.kernel.invokeFunction('convertToInteractive',\n",
              "                                                     [key], {});\n",
              "          if (!dataTable) return;\n",
              "\n",
              "          const docLinkHtml = 'Like what you see? Visit the ' +\n",
              "            '<a target=\"_blank\" href=https://colab.research.google.com/notebooks/data_table.ipynb>data table notebook</a>'\n",
              "            + ' to learn more about interactive tables.';\n",
              "          element.innerHTML = '';\n",
              "          dataTable['output_type'] = 'display_data';\n",
              "          await google.colab.output.renderOutput(dataTable, element);\n",
              "          const docLink = document.createElement('div');\n",
              "          docLink.innerHTML = docLinkHtml;\n",
              "          element.appendChild(docLink);\n",
              "        }\n",
              "      </script>\n",
              "    </div>\n",
              "  </div>\n",
              "  "
            ]
          },
          "metadata": {},
          "execution_count": 4
        }
      ]
    },
    {
      "cell_type": "code",
      "source": [
        "df.info()"
      ],
      "metadata": {
        "id": "cZfW3d6-Jb0x",
        "colab": {
          "base_uri": "https://localhost:8080/"
        },
        "outputId": "45c0806b-83b0-446c-bc18-f2861c6b3e39"
      },
      "execution_count": 216,
      "outputs": [
        {
          "output_type": "stream",
          "name": "stdout",
          "text": [
            "<class 'pandas.core.frame.DataFrame'>\n",
            "RangeIndex: 1000 entries, 0 to 999\n",
            "Data columns (total 21 columns):\n",
            " #   Column                       Non-Null Count  Dtype \n",
            "---  ------                       --------------  ----- \n",
            " 0   default                      1000 non-null   int64 \n",
            " 1   conta_corrente               1000 non-null   object\n",
            " 2   prazo_emprestimo_meses       1000 non-null   int64 \n",
            " 3   historico_credito            1000 non-null   object\n",
            " 4   proposito_emprestimo         1000 non-null   object\n",
            " 5   valor_emprestimo             1000 non-null   int64 \n",
            " 6   reserva_cc                   1000 non-null   object\n",
            " 7   tempo_emprego_atual          1000 non-null   object\n",
            " 8   taxa_comp_salario            1000 non-null   int64 \n",
            " 9   sexo_est_civil               1000 non-null   object\n",
            " 10  outros_fiadores              1000 non-null   object\n",
            " 11  anos_residencia_atual        1000 non-null   int64 \n",
            " 12  propriedade                  1000 non-null   object\n",
            " 13  idade                        1000 non-null   int64 \n",
            " 14  outros_planos_financiamento  1000 non-null   object\n",
            " 15  tipo_residencia              1000 non-null   object\n",
            " 16  n_creditos_banco             1000 non-null   int64 \n",
            " 17  status_emprego               1000 non-null   object\n",
            " 18  n_dependentes                1000 non-null   int64 \n",
            " 19  telefone                     1000 non-null   object\n",
            " 20  trabalhador_estrangeiro      1000 non-null   object\n",
            "dtypes: int64(8), object(13)\n",
            "memory usage: 164.2+ KB\n"
          ]
        }
      ]
    },
    {
      "cell_type": "code",
      "source": [
        "df.columns"
      ],
      "metadata": {
        "colab": {
          "base_uri": "https://localhost:8080/"
        },
        "id": "7ynr9AIRohek",
        "outputId": "a4972d60-a29a-4ca6-b994-5ae77a9c495e"
      },
      "execution_count": 6,
      "outputs": [
        {
          "output_type": "execute_result",
          "data": {
            "text/plain": [
              "Index(['default', 'conta_corrente', 'prazo_emprestimo_meses',\n",
              "       'historico_credito', 'proposito_emprestimo', 'valor_emprestimo',\n",
              "       'reserva_cc', 'tempo_emprego_atual', 'taxa_comp_salario',\n",
              "       'sexo_est_civil', 'outros_fiadores', 'anos_residencia_atual',\n",
              "       'propriedade', 'idade', 'outros_planos_financiamento',\n",
              "       'tipo_residencia', 'n_creditos_banco', 'status_emprego',\n",
              "       'n_dependentes', 'telefone', 'trabalhador_estrangeiro'],\n",
              "      dtype='object')"
            ]
          },
          "metadata": {},
          "execution_count": 6
        }
      ]
    },
    {
      "cell_type": "code",
      "source": [
        "cred = df[['default','prazo_emprestimo_meses', 'valor_emprestimo', 'taxa_comp_salario', 'anos_residencia_atual','idade', 'n_creditos_banco', 'n_dependentes']]"
      ],
      "metadata": {
        "id": "kYXyeWCkoCDd"
      },
      "execution_count": 217,
      "outputs": []
    },
    {
      "cell_type": "markdown",
      "source": [
        "# Precisamos tratar as colunas com dados categoricos"
      ],
      "metadata": {
        "id": "EHLHtE_COi1S"
      }
    },
    {
      "cell_type": "code",
      "source": [
        "df['sexo_est_civil'].value_counts().unique"
      ],
      "metadata": {
        "colab": {
          "base_uri": "https://localhost:8080/"
        },
        "id": "tGS-cBPspVxd",
        "outputId": "fd9b0964-1b6b-4316-9c0f-d204502c1d37"
      },
      "execution_count": 18,
      "outputs": [
        {
          "output_type": "execute_result",
          "data": {
            "text/plain": [
              "<bound method Series.unique of male : single                          548\n",
              "female : divorced/separated/married    310\n",
              "male : married/widowed                  92\n",
              "male : divorced/separated               50\n",
              "Name: sexo_est_civil, dtype: int64>"
            ]
          },
          "metadata": {},
          "execution_count": 18
        }
      ]
    },
    {
      "cell_type": "markdown",
      "source": [
        "# Inconsistência nessa coluna\n",
        "Aqui achamos um problema nos dados coletados.\n",
        "Eles separam homens por estado civil, mas colocam as mulheres todas juntas, sem que se possa entender, no caso das mulheres quem é casada/divorciada/separada. Não havendo registro de mulheres solteiras?\n",
        "\n",
        "\n",
        "Então decidi separar por sexo apenas em uma nova coluna."
      ],
      "metadata": {
        "id": "IJFXUauCVNB1"
      }
    },
    {
      "cell_type": "code",
      "source": [
        "cred['sexo'] = [0 if i == 'female : divorced/separated/married' \n",
        "                        else 1 for i in df['sexo_est_civil']]"
      ],
      "metadata": {
        "colab": {
          "base_uri": "https://localhost:8080/"
        },
        "id": "KqowRYkBZNJS",
        "outputId": "e173e5dd-e33f-420c-a72c-8ca224bf1bb4"
      },
      "execution_count": 218,
      "outputs": [
        {
          "output_type": "stream",
          "name": "stderr",
          "text": [
            "/usr/local/lib/python3.7/dist-packages/ipykernel_launcher.py:2: SettingWithCopyWarning: \n",
            "A value is trying to be set on a copy of a slice from a DataFrame.\n",
            "Try using .loc[row_indexer,col_indexer] = value instead\n",
            "\n",
            "See the caveats in the documentation: https://pandas.pydata.org/pandas-docs/stable/user_guide/indexing.html#returning-a-view-versus-a-copy\n",
            "  \n"
          ]
        }
      ]
    },
    {
      "cell_type": "code",
      "source": [
        "cred['sexo'].value_counts().unique"
      ],
      "metadata": {
        "colab": {
          "base_uri": "https://localhost:8080/"
        },
        "id": "-DojrA2TZNLy",
        "outputId": "413fe28d-620f-48ef-ef48-4d381fdd96be"
      },
      "execution_count": 205,
      "outputs": [
        {
          "output_type": "execute_result",
          "data": {
            "text/plain": [
              "<bound method Series.unique of 1    690\n",
              "0    310\n",
              "Name: sexo, dtype: int64>"
            ]
          },
          "metadata": {},
          "execution_count": 205
        }
      ]
    },
    {
      "cell_type": "markdown",
      "source": [
        "# Para obter uma lista de variáveis categóricas\n"
      ],
      "metadata": {
        "id": "kRWC1KcORxrF"
      }
    },
    {
      "cell_type": "code",
      "source": [
        "varCat = []\n",
        "\n",
        "def getCategorica(df):\n",
        "  for i in df.columns:\n",
        "    if df[i].dtype == 'object':\n",
        "      if i != 'sexo_est_civil':\n",
        "        varCat.append(i)\n",
        "  return varCat"
      ],
      "metadata": {
        "id": "c1_v8nGufWwO"
      },
      "execution_count": 219,
      "outputs": []
    },
    {
      "cell_type": "code",
      "source": [
        "varCat = getCategorica(df)"
      ],
      "metadata": {
        "id": "TUPyBMTyMBJF"
      },
      "execution_count": 220,
      "outputs": []
    },
    {
      "cell_type": "code",
      "source": [
        "varCat"
      ],
      "metadata": {
        "colab": {
          "base_uri": "https://localhost:8080/"
        },
        "id": "rWq_9cJ0ccxo",
        "outputId": "3c3e993a-352f-471f-acda-303aee870a97"
      },
      "execution_count": 221,
      "outputs": [
        {
          "output_type": "execute_result",
          "data": {
            "text/plain": [
              "['conta_corrente',\n",
              " 'historico_credito',\n",
              " 'proposito_emprestimo',\n",
              " 'reserva_cc',\n",
              " 'tempo_emprego_atual',\n",
              " 'outros_fiadores',\n",
              " 'propriedade',\n",
              " 'outros_planos_financiamento',\n",
              " 'tipo_residencia',\n",
              " 'status_emprego',\n",
              " 'telefone',\n",
              " 'trabalhador_estrangeiro']"
            ]
          },
          "metadata": {},
          "execution_count": 221
        }
      ]
    },
    {
      "cell_type": "markdown",
      "source": [
        "# Vamos transformar todos categóricos"
      ],
      "metadata": {
        "id": "yg21edJ4MsIC"
      }
    },
    {
      "cell_type": "code",
      "source": [
        "labelencoder = LabelEncoder()\n",
        "\n",
        "dictCategorias = {}\n",
        "\n",
        "for i in varCat:\n",
        "  elementos = df[i].nunique()\n",
        "  cred[i] = labelencoder.fit_transform(df[i])\n",
        "\n",
        "  dictCategorias.update({i: labelencoder.inverse_transform(np.arange(elementos))})"
      ],
      "metadata": {
        "id": "1RDF8a4NMrBS"
      },
      "execution_count": 227,
      "outputs": []
    },
    {
      "cell_type": "code",
      "source": [
        "dictCategorias"
      ],
      "metadata": {
        "colab": {
          "base_uri": "https://localhost:8080/"
        },
        "id": "bgKL2ZmsMq-T",
        "outputId": "7b1d5cc1-21bb-472c-810c-82dd33e4df70"
      },
      "execution_count": 228,
      "outputs": [
        {
          "output_type": "execute_result",
          "data": {
            "text/plain": [
              "{'conta_corrente': array(['0 <= ... < 200 DM', '< 0 DM',\n",
              "        '>= 200 DM / salary assignments for at least 1 year',\n",
              "        'no checking account'], dtype=object),\n",
              " 'historico_credito': array(['all credits at this bank paid back duly',\n",
              "        'critical account/ other credits existing (not at this bank)',\n",
              "        'delay in paying off in the past',\n",
              "        'existing credits paid back duly till now',\n",
              "        'no credits taken/ all credits paid back duly'], dtype=object),\n",
              " 'proposito_emprestimo': array(['(vacation - does not exist?)', 'business', 'car (new)',\n",
              "        'car (used)', 'domestic appliances', 'education',\n",
              "        'furniture/equipment', 'radio/television', 'repairs', 'retraining'],\n",
              "       dtype=object),\n",
              " 'reserva_cc': array(['.. >= 1000 DM ', '... < 100 DM', '100 <= ... < 500 DM',\n",
              "        '500 <= ... < 1000 DM ', 'unknown/ no savings account'],\n",
              "       dtype=object),\n",
              " 'tempo_emprego_atual': array(['.. >= 7 years', '... < 1 year ', '1 <= ... < 4 years',\n",
              "        '4 <= ... < 7 years', 'unemployed'], dtype=object),\n",
              " 'outros_fiadores': array(['co-applicant', 'guarantor', 'none'], dtype=object),\n",
              " 'propriedade': array(['if not A121 : building society savings agreement/ life insurance',\n",
              "        'if not A121/A122 : car or other, not in attribute 6',\n",
              "        'real estate', 'unknown / no property'], dtype=object),\n",
              " 'outros_planos_financiamento': array(['bank', 'none', 'stores'], dtype=object),\n",
              " 'tipo_residencia': array(['for free', 'own', 'rent'], dtype=object),\n",
              " 'status_emprego': array(['management/ self-employed/ highly qualified employee/ officer',\n",
              "        'skilled employee / official',\n",
              "        'unemployed/ unskilled - non-resident', 'unskilled - resident'],\n",
              "       dtype=object),\n",
              " 'telefone': array(['none', 'yes, registered under the customers name '], dtype=object),\n",
              " 'trabalhador_estrangeiro': array(['no', 'yes'], dtype=object)}"
            ]
          },
          "metadata": {},
          "execution_count": 228
        }
      ]
    },
    {
      "cell_type": "code",
      "source": [
        "df.info()"
      ],
      "metadata": {
        "colab": {
          "base_uri": "https://localhost:8080/"
        },
        "id": "XZ__eklvMq51",
        "outputId": "47b6efb6-3784-4eb8-c5f1-964d9a30a5d2"
      },
      "execution_count": 224,
      "outputs": [
        {
          "output_type": "stream",
          "name": "stdout",
          "text": [
            "<class 'pandas.core.frame.DataFrame'>\n",
            "RangeIndex: 1000 entries, 0 to 999\n",
            "Data columns (total 21 columns):\n",
            " #   Column                       Non-Null Count  Dtype \n",
            "---  ------                       --------------  ----- \n",
            " 0   default                      1000 non-null   int64 \n",
            " 1   conta_corrente               1000 non-null   object\n",
            " 2   prazo_emprestimo_meses       1000 non-null   int64 \n",
            " 3   historico_credito            1000 non-null   object\n",
            " 4   proposito_emprestimo         1000 non-null   object\n",
            " 5   valor_emprestimo             1000 non-null   int64 \n",
            " 6   reserva_cc                   1000 non-null   object\n",
            " 7   tempo_emprego_atual          1000 non-null   object\n",
            " 8   taxa_comp_salario            1000 non-null   int64 \n",
            " 9   sexo_est_civil               1000 non-null   object\n",
            " 10  outros_fiadores              1000 non-null   object\n",
            " 11  anos_residencia_atual        1000 non-null   int64 \n",
            " 12  propriedade                  1000 non-null   object\n",
            " 13  idade                        1000 non-null   int64 \n",
            " 14  outros_planos_financiamento  1000 non-null   object\n",
            " 15  tipo_residencia              1000 non-null   object\n",
            " 16  n_creditos_banco             1000 non-null   int64 \n",
            " 17  status_emprego               1000 non-null   object\n",
            " 18  n_dependentes                1000 non-null   int64 \n",
            " 19  telefone                     1000 non-null   object\n",
            " 20  trabalhador_estrangeiro      1000 non-null   object\n",
            "dtypes: int64(8), object(13)\n",
            "memory usage: 164.2+ KB\n"
          ]
        }
      ]
    },
    {
      "cell_type": "code",
      "source": [
        "cred.info()"
      ],
      "metadata": {
        "colab": {
          "base_uri": "https://localhost:8080/"
        },
        "id": "jmsxfuZAijSw",
        "outputId": "743cb911-da59-45c3-c760-0f3e66c2b40d"
      },
      "execution_count": 229,
      "outputs": [
        {
          "output_type": "stream",
          "name": "stdout",
          "text": [
            "<class 'pandas.core.frame.DataFrame'>\n",
            "RangeIndex: 1000 entries, 0 to 999\n",
            "Data columns (total 21 columns):\n",
            " #   Column                       Non-Null Count  Dtype\n",
            "---  ------                       --------------  -----\n",
            " 0   default                      1000 non-null   int64\n",
            " 1   prazo_emprestimo_meses       1000 non-null   int64\n",
            " 2   valor_emprestimo             1000 non-null   int64\n",
            " 3   taxa_comp_salario            1000 non-null   int64\n",
            " 4   anos_residencia_atual        1000 non-null   int64\n",
            " 5   idade                        1000 non-null   int64\n",
            " 6   n_creditos_banco             1000 non-null   int64\n",
            " 7   n_dependentes                1000 non-null   int64\n",
            " 8   sexo                         1000 non-null   int64\n",
            " 9   conta_corrente               1000 non-null   int64\n",
            " 10  historico_credito            1000 non-null   int64\n",
            " 11  proposito_emprestimo         1000 non-null   int64\n",
            " 12  reserva_cc                   1000 non-null   int64\n",
            " 13  tempo_emprego_atual          1000 non-null   int64\n",
            " 14  outros_fiadores              1000 non-null   int64\n",
            " 15  propriedade                  1000 non-null   int64\n",
            " 16  outros_planos_financiamento  1000 non-null   int64\n",
            " 17  tipo_residencia              1000 non-null   int64\n",
            " 18  status_emprego               1000 non-null   int64\n",
            " 19  telefone                     1000 non-null   int64\n",
            " 20  trabalhador_estrangeiro      1000 non-null   int64\n",
            "dtypes: int64(21)\n",
            "memory usage: 164.2 KB\n"
          ]
        }
      ]
    },
    {
      "cell_type": "code",
      "source": [
        "cred.head(3)"
      ],
      "metadata": {
        "colab": {
          "base_uri": "https://localhost:8080/",
          "height": 237
        },
        "id": "daqdzVzRoB99",
        "outputId": "cdcc8e7c-9bef-45f7-f266-4fcc1d10d525"
      },
      "execution_count": 230,
      "outputs": [
        {
          "output_type": "execute_result",
          "data": {
            "text/plain": [
              "   default  prazo_emprestimo_meses  valor_emprestimo  taxa_comp_salario  \\\n",
              "0        0                       6              1169                  4   \n",
              "1        1                      48              5951                  2   \n",
              "2        0                      12              2096                  2   \n",
              "\n",
              "   anos_residencia_atual  idade  n_creditos_banco  n_dependentes  sexo  \\\n",
              "0                      4     67                 2              1     1   \n",
              "1                      2     22                 1              1     0   \n",
              "2                      3     49                 1              2     1   \n",
              "\n",
              "   conta_corrente  ...  proposito_emprestimo  reserva_cc  tempo_emprego_atual  \\\n",
              "0               1  ...                     4           4                    0   \n",
              "1               0  ...                     4           1                    2   \n",
              "2               3  ...                     0           1                    3   \n",
              "\n",
              "   outros_fiadores  propriedade  outros_planos_financiamento  tipo_residencia  \\\n",
              "0                2            2                            1                1   \n",
              "1                2            2                            1                1   \n",
              "2                2            2                            1                1   \n",
              "\n",
              "   status_emprego  telefone  trabalhador_estrangeiro  \n",
              "0               1         1                        1  \n",
              "1               1         0                        1  \n",
              "2               3         0                        1  \n",
              "\n",
              "[3 rows x 21 columns]"
            ],
            "text/html": [
              "\n",
              "  <div id=\"df-d6d4b467-f72a-4089-b5d5-fafa62d01b74\">\n",
              "    <div class=\"colab-df-container\">\n",
              "      <div>\n",
              "<style scoped>\n",
              "    .dataframe tbody tr th:only-of-type {\n",
              "        vertical-align: middle;\n",
              "    }\n",
              "\n",
              "    .dataframe tbody tr th {\n",
              "        vertical-align: top;\n",
              "    }\n",
              "\n",
              "    .dataframe thead th {\n",
              "        text-align: right;\n",
              "    }\n",
              "</style>\n",
              "<table border=\"1\" class=\"dataframe\">\n",
              "  <thead>\n",
              "    <tr style=\"text-align: right;\">\n",
              "      <th></th>\n",
              "      <th>default</th>\n",
              "      <th>prazo_emprestimo_meses</th>\n",
              "      <th>valor_emprestimo</th>\n",
              "      <th>taxa_comp_salario</th>\n",
              "      <th>anos_residencia_atual</th>\n",
              "      <th>idade</th>\n",
              "      <th>n_creditos_banco</th>\n",
              "      <th>n_dependentes</th>\n",
              "      <th>sexo</th>\n",
              "      <th>conta_corrente</th>\n",
              "      <th>...</th>\n",
              "      <th>proposito_emprestimo</th>\n",
              "      <th>reserva_cc</th>\n",
              "      <th>tempo_emprego_atual</th>\n",
              "      <th>outros_fiadores</th>\n",
              "      <th>propriedade</th>\n",
              "      <th>outros_planos_financiamento</th>\n",
              "      <th>tipo_residencia</th>\n",
              "      <th>status_emprego</th>\n",
              "      <th>telefone</th>\n",
              "      <th>trabalhador_estrangeiro</th>\n",
              "    </tr>\n",
              "  </thead>\n",
              "  <tbody>\n",
              "    <tr>\n",
              "      <th>0</th>\n",
              "      <td>0</td>\n",
              "      <td>6</td>\n",
              "      <td>1169</td>\n",
              "      <td>4</td>\n",
              "      <td>4</td>\n",
              "      <td>67</td>\n",
              "      <td>2</td>\n",
              "      <td>1</td>\n",
              "      <td>1</td>\n",
              "      <td>1</td>\n",
              "      <td>...</td>\n",
              "      <td>4</td>\n",
              "      <td>4</td>\n",
              "      <td>0</td>\n",
              "      <td>2</td>\n",
              "      <td>2</td>\n",
              "      <td>1</td>\n",
              "      <td>1</td>\n",
              "      <td>1</td>\n",
              "      <td>1</td>\n",
              "      <td>1</td>\n",
              "    </tr>\n",
              "    <tr>\n",
              "      <th>1</th>\n",
              "      <td>1</td>\n",
              "      <td>48</td>\n",
              "      <td>5951</td>\n",
              "      <td>2</td>\n",
              "      <td>2</td>\n",
              "      <td>22</td>\n",
              "      <td>1</td>\n",
              "      <td>1</td>\n",
              "      <td>0</td>\n",
              "      <td>0</td>\n",
              "      <td>...</td>\n",
              "      <td>4</td>\n",
              "      <td>1</td>\n",
              "      <td>2</td>\n",
              "      <td>2</td>\n",
              "      <td>2</td>\n",
              "      <td>1</td>\n",
              "      <td>1</td>\n",
              "      <td>1</td>\n",
              "      <td>0</td>\n",
              "      <td>1</td>\n",
              "    </tr>\n",
              "    <tr>\n",
              "      <th>2</th>\n",
              "      <td>0</td>\n",
              "      <td>12</td>\n",
              "      <td>2096</td>\n",
              "      <td>2</td>\n",
              "      <td>3</td>\n",
              "      <td>49</td>\n",
              "      <td>1</td>\n",
              "      <td>2</td>\n",
              "      <td>1</td>\n",
              "      <td>3</td>\n",
              "      <td>...</td>\n",
              "      <td>0</td>\n",
              "      <td>1</td>\n",
              "      <td>3</td>\n",
              "      <td>2</td>\n",
              "      <td>2</td>\n",
              "      <td>1</td>\n",
              "      <td>1</td>\n",
              "      <td>3</td>\n",
              "      <td>0</td>\n",
              "      <td>1</td>\n",
              "    </tr>\n",
              "  </tbody>\n",
              "</table>\n",
              "<p>3 rows × 21 columns</p>\n",
              "</div>\n",
              "      <button class=\"colab-df-convert\" onclick=\"convertToInteractive('df-d6d4b467-f72a-4089-b5d5-fafa62d01b74')\"\n",
              "              title=\"Convert this dataframe to an interactive table.\"\n",
              "              style=\"display:none;\">\n",
              "        \n",
              "  <svg xmlns=\"http://www.w3.org/2000/svg\" height=\"24px\"viewBox=\"0 0 24 24\"\n",
              "       width=\"24px\">\n",
              "    <path d=\"M0 0h24v24H0V0z\" fill=\"none\"/>\n",
              "    <path d=\"M18.56 5.44l.94 2.06.94-2.06 2.06-.94-2.06-.94-.94-2.06-.94 2.06-2.06.94zm-11 1L8.5 8.5l.94-2.06 2.06-.94-2.06-.94L8.5 2.5l-.94 2.06-2.06.94zm10 10l.94 2.06.94-2.06 2.06-.94-2.06-.94-.94-2.06-.94 2.06-2.06.94z\"/><path d=\"M17.41 7.96l-1.37-1.37c-.4-.4-.92-.59-1.43-.59-.52 0-1.04.2-1.43.59L10.3 9.45l-7.72 7.72c-.78.78-.78 2.05 0 2.83L4 21.41c.39.39.9.59 1.41.59.51 0 1.02-.2 1.41-.59l7.78-7.78 2.81-2.81c.8-.78.8-2.07 0-2.86zM5.41 20L4 18.59l7.72-7.72 1.47 1.35L5.41 20z\"/>\n",
              "  </svg>\n",
              "      </button>\n",
              "      \n",
              "  <style>\n",
              "    .colab-df-container {\n",
              "      display:flex;\n",
              "      flex-wrap:wrap;\n",
              "      gap: 12px;\n",
              "    }\n",
              "\n",
              "    .colab-df-convert {\n",
              "      background-color: #E8F0FE;\n",
              "      border: none;\n",
              "      border-radius: 50%;\n",
              "      cursor: pointer;\n",
              "      display: none;\n",
              "      fill: #1967D2;\n",
              "      height: 32px;\n",
              "      padding: 0 0 0 0;\n",
              "      width: 32px;\n",
              "    }\n",
              "\n",
              "    .colab-df-convert:hover {\n",
              "      background-color: #E2EBFA;\n",
              "      box-shadow: 0px 1px 2px rgba(60, 64, 67, 0.3), 0px 1px 3px 1px rgba(60, 64, 67, 0.15);\n",
              "      fill: #174EA6;\n",
              "    }\n",
              "\n",
              "    [theme=dark] .colab-df-convert {\n",
              "      background-color: #3B4455;\n",
              "      fill: #D2E3FC;\n",
              "    }\n",
              "\n",
              "    [theme=dark] .colab-df-convert:hover {\n",
              "      background-color: #434B5C;\n",
              "      box-shadow: 0px 1px 3px 1px rgba(0, 0, 0, 0.15);\n",
              "      filter: drop-shadow(0px 1px 2px rgba(0, 0, 0, 0.3));\n",
              "      fill: #FFFFFF;\n",
              "    }\n",
              "  </style>\n",
              "\n",
              "      <script>\n",
              "        const buttonEl =\n",
              "          document.querySelector('#df-d6d4b467-f72a-4089-b5d5-fafa62d01b74 button.colab-df-convert');\n",
              "        buttonEl.style.display =\n",
              "          google.colab.kernel.accessAllowed ? 'block' : 'none';\n",
              "\n",
              "        async function convertToInteractive(key) {\n",
              "          const element = document.querySelector('#df-d6d4b467-f72a-4089-b5d5-fafa62d01b74');\n",
              "          const dataTable =\n",
              "            await google.colab.kernel.invokeFunction('convertToInteractive',\n",
              "                                                     [key], {});\n",
              "          if (!dataTable) return;\n",
              "\n",
              "          const docLinkHtml = 'Like what you see? Visit the ' +\n",
              "            '<a target=\"_blank\" href=https://colab.research.google.com/notebooks/data_table.ipynb>data table notebook</a>'\n",
              "            + ' to learn more about interactive tables.';\n",
              "          element.innerHTML = '';\n",
              "          dataTable['output_type'] = 'display_data';\n",
              "          await google.colab.output.renderOutput(dataTable, element);\n",
              "          const docLink = document.createElement('div');\n",
              "          docLink.innerHTML = docLinkHtml;\n",
              "          element.appendChild(docLink);\n",
              "        }\n",
              "      </script>\n",
              "    </div>\n",
              "  </div>\n",
              "  "
            ]
          },
          "metadata": {},
          "execution_count": 230
        }
      ]
    },
    {
      "cell_type": "markdown",
      "source": [
        "# Verificando idade onde podemos colocar por categoria "
      ],
      "metadata": {
        "id": "k9MzgyIdSft0"
      }
    },
    {
      "cell_type": "code",
      "source": [
        "cred['idade'].value_counts().unique"
      ],
      "metadata": {
        "colab": {
          "base_uri": "https://localhost:8080/"
        },
        "id": "DF6wnIReQucP",
        "outputId": "ef454577-57f3-443f-d4d1-cb7e3e724cba"
      },
      "execution_count": 234,
      "outputs": [
        {
          "output_type": "execute_result",
          "data": {
            "text/plain": [
              "<bound method Series.unique of 27    51\n",
              "26    50\n",
              "23    48\n",
              "24    44\n",
              "28    43\n",
              "25    41\n",
              "30    40\n",
              "35    40\n",
              "36    39\n",
              "31    38\n",
              "29    37\n",
              "32    34\n",
              "33    33\n",
              "34    32\n",
              "37    29\n",
              "22    27\n",
              "40    25\n",
              "38    24\n",
              "42    22\n",
              "39    21\n",
              "46    18\n",
              "43    17\n",
              "47    17\n",
              "44    17\n",
              "41    17\n",
              "45    15\n",
              "20    14\n",
              "21    14\n",
              "49    14\n",
              "50    12\n",
              "48    12\n",
              "54    10\n",
              "57     9\n",
              "52     9\n",
              "51     8\n",
              "55     8\n",
              "63     8\n",
              "61     7\n",
              "53     7\n",
              "60     6\n",
              "65     5\n",
              "58     5\n",
              "64     5\n",
              "66     5\n",
              "74     4\n",
              "67     3\n",
              "68     3\n",
              "56     3\n",
              "59     3\n",
              "75     2\n",
              "19     2\n",
              "62     2\n",
              "70     1\n",
              "Name: idade, dtype: int64>"
            ]
          },
          "metadata": {},
          "execution_count": 234
        }
      ]
    },
    {
      "cell_type": "code",
      "source": [
        "cred['idade'].min()"
      ],
      "metadata": {
        "colab": {
          "base_uri": "https://localhost:8080/"
        },
        "id": "oHHkHWuxjyXB",
        "outputId": "89aecb9e-4d2a-43ba-bfe0-ca88a00b0915"
      },
      "execution_count": 235,
      "outputs": [
        {
          "output_type": "execute_result",
          "data": {
            "text/plain": [
              "19"
            ]
          },
          "metadata": {},
          "execution_count": 235
        }
      ]
    },
    {
      "cell_type": "code",
      "source": [
        "df['idade'].max()"
      ],
      "metadata": {
        "colab": {
          "base_uri": "https://localhost:8080/"
        },
        "id": "OPSTH5oXlz4B",
        "outputId": "7552a428-3587-43ad-b54d-b64e250cdf9c"
      },
      "execution_count": 240,
      "outputs": [
        {
          "output_type": "execute_result",
          "data": {
            "text/plain": [
              "75"
            ]
          },
          "metadata": {},
          "execution_count": 240
        }
      ]
    },
    {
      "cell_type": "markdown",
      "source": [
        "# vamos agrupar assim:\n",
        "1 para menores que 20 anos\n",
        "\n",
        "2 para menores que 30 anos\n",
        "\n",
        "3 para menores que 40 anos\n",
        "\n",
        "4 para menores que 50 anos\n",
        "\n",
        "5 para menores que 60 anos\n",
        "\n",
        "6 para menores que 70 anos\n",
        "\n",
        "7 para menores que 80 anos\n",
        "\n",
        "8 para maiores que 80"
      ],
      "metadata": {
        "id": "jdYdkt8akEsq"
      }
    },
    {
      "cell_type": "code",
      "source": [
        "cred['idade'] = [1 if i <20  \n",
        "                        else 1 if  i < 30\n",
        "                               else 3 if i < 40\n",
        "                                      else 4 if i < 50\n",
        "                                             else 5 if i < 60\n",
        "                                                    else 6 if i < 70 \n",
        "                                                           else 7 if i < 80\n",
        "                                                                  else 8 for i in cred['idade']]"
      ],
      "metadata": {
        "id": "eEq7KZYpj3fb"
      },
      "execution_count": 236,
      "outputs": []
    },
    {
      "cell_type": "code",
      "source": [
        "cred['idade'].value_counts().unique"
      ],
      "metadata": {
        "colab": {
          "base_uri": "https://localhost:8080/"
        },
        "id": "5OYyRa-tSmKm",
        "outputId": "106a5a9e-07ea-4fe2-bd6c-b99c1fd6af75"
      },
      "execution_count": 238,
      "outputs": [
        {
          "output_type": "execute_result",
          "data": {
            "text/plain": [
              "<bound method Series.unique of 1    371\n",
              "3    330\n",
              "4    174\n",
              "5     74\n",
              "6     44\n",
              "7      7\n",
              "Name: idade, dtype: int64>"
            ]
          },
          "metadata": {},
          "execution_count": 238
        }
      ]
    },
    {
      "cell_type": "code",
      "source": [],
      "metadata": {
        "id": "CDmRZeHYoBy2"
      },
      "execution_count": null,
      "outputs": []
    },
    {
      "cell_type": "markdown",
      "source": [
        "# Criando funções para aplicar a Classificação dos dados "
      ],
      "metadata": {
        "id": "MCLRro0fIEt4"
      }
    },
    {
      "cell_type": "code",
      "source": [
        "\n",
        "def get_XY(df, target):\n",
        "  X = df.drop(columns=[target])\n",
        "  Y = df[target]\n",
        "  return X, Y\n",
        "\n",
        "def get_train_test(X, Y, ts=0.3, rs=42):\n",
        "  x_train, x_test, y_train, y_test = train_test_split(X, Y,\n",
        "                                                    test_size=ts,\n",
        "                                                    random_state=rs,\n",
        "                                                    stratify=Y\n",
        "                                                    )\n",
        "  return x_train, x_test, y_train, y_test\n",
        "\n",
        "\n",
        "def model_apply(model, x_train, y_train, x_test):\n",
        "  model.fit(x_train, y_train)\n",
        "  yHat = model.predict(x_test)\n",
        "  return yHat\n",
        "\n",
        "\n",
        "def evaluate_model(y_test, yHat):\n",
        "  acuracia = accuracy_score(y_test, yHat)\n",
        "  cfmx = confusion_matrix(y_test, yHat)\n",
        "  sns.heatmap(pd.DataFrame(cfmx), annot=True,fmt='g')\n",
        "\n",
        "  print('Accuracy: ', acuracia)\n",
        "  print('------------------\\n')\n",
        "  plt.xlabel('P R E D I C T')\n",
        "  plt.ylabel('R E A L')\n",
        "  plt.show()\n",
        "\n",
        "  return cfmx\n",
        "\n",
        "\n",
        "def pipeline(df, target, model):\n",
        "  X, Y = get_XY(df, target)\n",
        "  x_train, x_test, y_train, y_test = get_train_test(X, Y)\n",
        "  yHat = model_apply(model, x_train, y_train, x_test)\n",
        "  cfmx = evaluate_model(y_test, yHat)\n",
        "  return cfmx\n",
        "\n",
        "\n",
        "def get_tree_graph(clf, colunas, class_names):\n",
        "  fig = plt.figure(figsize=(40, 25))\n",
        "  _ = plot_tree(clf,\n",
        "            feature_names=colunas,\n",
        "            class_names=class_names,\n",
        "            filled=True)\n",
        "\n",
        "\n"
      ],
      "metadata": {
        "id": "e7DQ37uGoBmu"
      },
      "execution_count": 241,
      "outputs": []
    },
    {
      "cell_type": "code",
      "source": [],
      "metadata": {
        "id": "_-ZmDBXwx3By"
      },
      "execution_count": null,
      "outputs": []
    },
    {
      "cell_type": "code",
      "source": [],
      "metadata": {
        "id": "5FpK2FOUx2-b"
      },
      "execution_count": null,
      "outputs": []
    },
    {
      "cell_type": "code",
      "source": [
        "dummy_clf = DummyClassifier()\n",
        "pipeline(cred, 'default', dummy_clf)"
      ],
      "metadata": {
        "colab": {
          "base_uri": "https://localhost:8080/",
          "height": 371
        },
        "id": "AGw52-NtxJut",
        "outputId": "77c52f82-dd1e-4893-ba8e-d78f292daa9d"
      },
      "execution_count": 242,
      "outputs": [
        {
          "output_type": "stream",
          "name": "stdout",
          "text": [
            "Accuracy:  0.7\n",
            "------------------\n",
            "\n"
          ]
        },
        {
          "output_type": "display_data",
          "data": {
            "text/plain": [
              "<Figure size 432x288 with 2 Axes>"
            ],
            "image/png": "[encoded data removed]"
          },
          "metadata": {
            "needs_background": "light"
          }
        },
        {
          "output_type": "execute_result",
          "data": {
            "text/plain": [
              "array([[210,   0],\n",
              "       [ 90,   0]])"
            ]
          },
          "metadata": {},
          "execution_count": 242
        }
      ]
    },
    {
      "cell_type": "code",
      "source": [
        "tree_clf = DecisionTreeClassifier()\n",
        "pipeline(cred, 'default', tree_clf)"
      ],
      "metadata": {
        "colab": {
          "base_uri": "https://localhost:8080/",
          "height": 372
        },
        "id": "YxmRJDM_w2_q",
        "outputId": "2b12a4eb-9380-4b8b-f8dd-d9bf5eb17152"
      },
      "execution_count": 243,
      "outputs": [
        {
          "output_type": "stream",
          "name": "stdout",
          "text": [
            "Accuracy:  0.6866666666666666\n",
            "------------------\n",
            "\n"
          ]
        },
        {
          "output_type": "display_data",
          "data": {
            "text/plain": [
              "<Figure size 432x288 with 2 Axes>"
            ],
            "image/png": "[encoded data removed]"
          },
          "metadata": {
            "needs_background": "light"
          }
        },
        {
          "output_type": "execute_result",
          "data": {
            "text/plain": [
              "array([[162,  48],\n",
              "       [ 46,  44]])"
            ]
          },
          "metadata": {},
          "execution_count": 243
        }
      ]
    },
    {
      "cell_type": "code",
      "source": [
        "log_clf = LogisticRegression()\n",
        "pipeline(cred, 'default', log_clf)"
      ],
      "metadata": {
        "colab": {
          "base_uri": "https://localhost:8080/",
          "height": 519
        },
        "id": "oY6MYhHxy3qa",
        "outputId": "56d640ef-23c4-44f1-f9d0-c6629a93d50d"
      },
      "execution_count": 244,
      "outputs": [
        {
          "output_type": "stream",
          "name": "stderr",
          "text": [
            "/usr/local/lib/python3.7/dist-packages/sklearn/linear_model/_logistic.py:818: ConvergenceWarning: lbfgs failed to converge (status=1):\n",
            "STOP: TOTAL NO. of ITERATIONS REACHED LIMIT.\n",
            "\n",
            "Increase the number of iterations (max_iter) or scale the data as shown in:\n",
            "    https://scikit-learn.org/stable/modules/preprocessing.html\n",
            "Please also refer to the documentation for alternative solver options:\n",
            "    https://scikit-learn.org/stable/modules/linear_model.html#logistic-regression\n",
            "  extra_warning_msg=_LOGISTIC_SOLVER_CONVERGENCE_MSG,\n"
          ]
        },
        {
          "output_type": "stream",
          "name": "stdout",
          "text": [
            "Accuracy:  0.7266666666666667\n",
            "------------------\n",
            "\n"
          ]
        },
        {
          "output_type": "display_data",
          "data": {
            "text/plain": [
              "<Figure size 432x288 with 2 Axes>"
            ],
            "image/png": "[encoded data removed]"
          },
          "metadata": {
            "needs_background": "light"
          }
        },
        {
          "output_type": "execute_result",
          "data": {
            "text/plain": [
              "array([[186,  24],\n",
              "       [ 58,  32]])"
            ]
          },
          "metadata": {},
          "execution_count": 244
        }
      ]
    },
    {
      "cell_type": "code",
      "source": [],
      "metadata": {
        "id": "A3tM0oBJw287"
      },
      "execution_count": null,
      "outputs": []
    },
    {
      "cell_type": "code",
      "source": [
        "colunas = cred.drop(columns='default').columns\n",
        "class_names = ['Empresta', 'Não empresta']"
      ],
      "metadata": {
        "id": "HG4rjpYKxJ5-"
      },
      "execution_count": 245,
      "outputs": []
    },
    {
      "cell_type": "code",
      "source": [
        "get_tree_graph(tree_clf, colunas, class_names)"
      ],
      "metadata": {
        "colab": {
          "base_uri": "https://localhost:8080/",
          "height": 870
        },
        "id": "YFc2KyERw26Q",
        "outputId": "954b19f3-f7a5-4542-a491-8f2661ef51e3"
      },
      "execution_count": 246,
      "outputs": [
        {
          "output_type": "display_data",
          "data": {
            "text/plain": [
              "<Figure size 2880x1800 with 1 Axes>"
            ],
            "image/png": "[encoded data removed]"
          },
          "metadata": {
            "needs_background": "light"
          }
        }
      ]
    },
    {
      "cell_type": "markdown",
      "source": [
        "min_samples_leaf - minimo de amostras q o nó precisa ter"
      ],
      "metadata": {
        "id": "XwExbRVnik67"
      }
    },
    {
      "cell_type": "markdown",
      "source": [
        "# Esse foi o melhor resultado"
      ],
      "metadata": {
        "id": "PKIdtehgsQnd"
      }
    },
    {
      "cell_type": "code",
      "source": [
        "new_tree_clf = DecisionTreeClassifier(min_samples_leaf=10)\n",
        "pipeline(cred, 'default', new_tree_clf)"
      ],
      "metadata": {
        "colab": {
          "base_uri": "https://localhost:8080/",
          "height": 371
        },
        "id": "X37dzrlzw23c",
        "outputId": "4d7b099d-6735-4048-a230-f4ca7f1101d1"
      },
      "execution_count": 247,
      "outputs": [
        {
          "output_type": "stream",
          "name": "stdout",
          "text": [
            "Accuracy:  0.7266666666666667\n",
            "------------------\n",
            "\n"
          ]
        },
        {
          "output_type": "display_data",
          "data": {
            "text/plain": [
              "<Figure size 432x288 with 2 Axes>"
            ],
            "image/png": "[encoded data removed]"
          },
          "metadata": {
            "needs_background": "light"
          }
        },
        {
          "output_type": "execute_result",
          "data": {
            "text/plain": [
              "array([[169,  41],\n",
              "       [ 41,  49]])"
            ]
          },
          "metadata": {},
          "execution_count": 247
        }
      ]
    },
    {
      "cell_type": "code",
      "source": [
        "get_tree_graph(new_tree_clf, colunas, class_names)"
      ],
      "metadata": {
        "id": "CmkYogssw200"
      },
      "execution_count": null,
      "outputs": []
    },
    {
      "cell_type": "code",
      "source": [
        "new_tree_clf = DecisionTreeClassifier(min_samples_leaf=10, criterion='entropy')\n",
        "pipeline(cred, 'default', new_tree_clf)"
      ],
      "metadata": {
        "colab": {
          "base_uri": "https://localhost:8080/",
          "height": 371
        },
        "id": "6ODKj-2xw2x9",
        "outputId": "df1b83c7-f1e6-4159-cf54-23bfc07839a4"
      },
      "execution_count": 249,
      "outputs": [
        {
          "output_type": "stream",
          "name": "stdout",
          "text": [
            "Accuracy:  0.68\n",
            "------------------\n",
            "\n"
          ]
        },
        {
          "output_type": "display_data",
          "data": {
            "text/plain": [
              "<Figure size 432x288 with 2 Axes>"
            ],
            "image/png": "[encoded data removed]"
          },
          "metadata": {
            "needs_background": "light"
          }
        },
        {
          "output_type": "execute_result",
          "data": {
            "text/plain": [
              "array([[164,  46],\n",
              "       [ 50,  40]])"
            ]
          },
          "metadata": {},
          "execution_count": 249
        }
      ]
    },
    {
      "cell_type": "code",
      "source": [
        "get_tree_graph(new_tree_clf, colunas, class_names)"
      ],
      "metadata": {
        "id": "Ypjzsgsvw2ui"
      },
      "execution_count": null,
      "outputs": []
    },
    {
      "cell_type": "code",
      "source": [
        "new_tree_clf = DecisionTreeClassifier(max_depth=3, min_samples_leaf=10, criterion='entropy')\n",
        "pipeline(cred, 'default', new_tree_clf)"
      ],
      "metadata": {
        "colab": {
          "base_uri": "https://localhost:8080/",
          "height": 373
        },
        "id": "K2DpZd2R2r4Y",
        "outputId": "fcdc3826-944d-47a6-a16e-1dc24483e472"
      },
      "execution_count": 251,
      "outputs": [
        {
          "output_type": "stream",
          "name": "stdout",
          "text": [
            "Accuracy:  0.6833333333333333\n",
            "------------------\n",
            "\n"
          ]
        },
        {
          "output_type": "display_data",
          "data": {
            "text/plain": [
              "<Figure size 432x288 with 2 Axes>"
            ],
            "image/png": "[encoded data removed]"
          },
          "metadata": {
            "needs_background": "light"
          }
        },
        {
          "output_type": "execute_result",
          "data": {
            "text/plain": [
              "array([[202,   8],\n",
              "       [ 87,   3]])"
            ]
          },
          "metadata": {},
          "execution_count": 251
        }
      ]
    },
    {
      "cell_type": "code",
      "source": [
        "get_tree_graph(new_tree_clf, colunas, class_names)"
      ],
      "metadata": {
        "id": "Q-kD1FMv2r1h"
      },
      "execution_count": null,
      "outputs": []
    },
    {
      "cell_type": "code",
      "source": [
        "dt = DecisionTreeClassifier()"
      ],
      "metadata": {
        "id": "doaEyy523D38"
      },
      "execution_count": 266,
      "outputs": []
    },
    {
      "cell_type": "code",
      "source": [
        "params = {\n",
        "    'max_depth': [5, 10, 20, 40], \n",
        "    'min_samples_leaf': [1, 2, 3, 5, 10, 20, 30], \n",
        "    'criterion': ['entropy', 'gini']\n",
        "}"
      ],
      "metadata": {
        "id": "3Vuq1dj83D0b"
      },
      "execution_count": 267,
      "outputs": []
    },
    {
      "cell_type": "code",
      "source": [
        "grd_tree = GridSearchCV(estimator=dt,\n",
        "                        param_grid=params,\n",
        "                        cv=10,\n",
        "                        scoring='recall')"
      ],
      "metadata": {
        "id": "80YIwVFp2ryg"
      },
      "execution_count": 268,
      "outputs": []
    },
    {
      "cell_type": "code",
      "source": [
        "X, Y = get_XY(cred, 'default')\n",
        "x_train, x_test, y_train, y_test = get_train_test(X, Y)"
      ],
      "metadata": {
        "id": "0viaWxVP3nti"
      },
      "execution_count": 269,
      "outputs": []
    },
    {
      "cell_type": "code",
      "source": [
        "grd_tree.fit(x_train, y_train)"
      ],
      "metadata": {
        "colab": {
          "base_uri": "https://localhost:8080/"
        },
        "id": "uVAj99nk3nqg",
        "outputId": "5d02ff06-d2e8-4782-dccc-c08f91d2ccc1"
      },
      "execution_count": 270,
      "outputs": [
        {
          "output_type": "execute_result",
          "data": {
            "text/plain": [
              "GridSearchCV(cv=10, estimator=DecisionTreeClassifier(),\n",
              "             param_grid={'criterion': ['entropy', 'gini'],\n",
              "                         'max_depth': [5, 10, 20, 40],\n",
              "                         'min_samples_leaf': [1, 2, 3, 5, 10, 20, 30]},\n",
              "             scoring='recall')"
            ]
          },
          "metadata": {},
          "execution_count": 270
        }
      ]
    },
    {
      "cell_type": "code",
      "source": [
        "grd_tree.best_estimator_"
      ],
      "metadata": {
        "colab": {
          "base_uri": "https://localhost:8080/"
        },
        "id": "hY3cXY-o3nnQ",
        "outputId": "5b1c0131-23b1-4b4f-f31c-af87e33ef8f7"
      },
      "execution_count": 272,
      "outputs": [
        {
          "output_type": "execute_result",
          "data": {
            "text/plain": [
              "DecisionTreeClassifier(max_depth=10)"
            ]
          },
          "metadata": {},
          "execution_count": 272
        }
      ]
    },
    {
      "cell_type": "code",
      "source": [
        "new_tree_clf = grd_tree.best_estimator_\n",
        "cfmx = pipeline(cred, 'default', new_tree_clf)"
      ],
      "metadata": {
        "colab": {
          "base_uri": "https://localhost:8080/",
          "height": 334
        },
        "id": "eqi5Gdyc32XO",
        "outputId": "0eb4547d-6636-427c-8ec6-b109770d4b2e"
      },
      "execution_count": 273,
      "outputs": [
        {
          "output_type": "stream",
          "name": "stdout",
          "text": [
            "Accuracy:  0.7\n",
            "------------------\n",
            "\n"
          ]
        },
        {
          "output_type": "display_data",
          "data": {
            "text/plain": [
              "<Figure size 432x288 with 2 Axes>"
            ],
            "image/png": "[encoded data removed]"
          },
          "metadata": {
            "needs_background": "light"
          }
        }
      ]
    },
    {
      "cell_type": "code",
      "source": [
        "get_tree_graph(new_tree_clf, colunas, class_names)"
      ],
      "metadata": {
        "id": "lZuLPokq32UK"
      },
      "execution_count": null,
      "outputs": []
    },
    {
      "cell_type": "markdown",
      "source": [
        "# Métricas \n",
        "## Acurácia de falsos positivos e verdadeiros positivos (roc_auc_score)\n",
        "## Acurácia simples\n",
        "## Precisão\n",
        "## Sensibilidade (Recall)\n"
      ],
      "metadata": {
        "id": "mTRbbDFqzOEG"
      }
    },
    {
      "cell_type": "code",
      "source": [
        "yhat_prob = log_clf.predict_proba(x_test)[:,1]\n",
        "yhat = log_clf.predict(x_test)"
      ],
      "metadata": {
        "id": "1ge7kTdZ32Qy"
      },
      "execution_count": 275,
      "outputs": []
    },
    {
      "cell_type": "code",
      "source": [
        "def metricas(y_test, yhat_prob, yhat):\n",
        "  #x_train, x_test, y_train, y_test = get_train_test(X, Y, ts=0.3, rs=42)\n",
        "  rauc = roc_auc_score(y_test, yhat_prob)  * 100\n",
        "  print('Acurácia de falsos positivos e verdadeiros positivos: ', rauc)\n",
        "  auc = (accuracy_score(y_test, yhat) * 100)\n",
        "  print('Acurácia: ', auc)\n",
        "  print(classification_report(y_test, yhat))\n",
        "\n"
      ],
      "metadata": {
        "id": "gnb8yBbb4fTz"
      },
      "execution_count": 276,
      "outputs": []
    },
    {
      "cell_type": "code",
      "source": [
        "metricas(y_test, yhat_prob, yhat)"
      ],
      "metadata": {
        "colab": {
          "base_uri": "https://localhost:8080/"
        },
        "id": "9O4Rbplj4fQh",
        "outputId": "763a0a5a-f6d7-46f4-a666-8b67ea1339c5"
      },
      "execution_count": 277,
      "outputs": [
        {
          "output_type": "stream",
          "name": "stdout",
          "text": [
            "Acurácia de falsos positivos e verdadeiros positivos:  73.55026455026457\n",
            "Acurácia:  72.66666666666667\n",
            "              precision    recall  f1-score   support\n",
            "\n",
            "           0       0.76      0.89      0.82       210\n",
            "           1       0.57      0.36      0.44        90\n",
            "\n",
            "    accuracy                           0.73       300\n",
            "   macro avg       0.67      0.62      0.63       300\n",
            "weighted avg       0.71      0.73      0.71       300\n",
            "\n"
          ]
        }
      ]
    },
    {
      "cell_type": "code",
      "source": [],
      "metadata": {
        "id": "Ebs6J0-l4fJ0"
      },
      "execution_count": null,
      "outputs": []
    },
    {
      "cell_type": "code",
      "source": [],
      "metadata": {
        "id": "KJE9UsLt4fGX"
      },
      "execution_count": null,
      "outputs": []
    },
    {
      "cell_type": "code",
      "source": [],
      "metadata": {
        "id": "-V0WUcokw2kr"
      },
      "execution_count": null,
      "outputs": []
    },
    {
      "cell_type": "code",
      "source": [],
      "metadata": {
        "id": "SklTf6qroBeu"
      },
      "execution_count": null,
      "outputs": []
    },
    {
      "cell_type": "markdown",
      "source": [
        "# aqui ainda estou escrevendo\n",
        "# Validação cruzada\n",
        "\n",
        "A ideia é dividir a massa de dados disponível em k partições (os tais \"folds\") e realizar k rodadas de treinamento e teste com essas combinações de dados.\n",
        " Assim, idealmente minimiza-se as chances de algum dado importante para a classificação ser deixado de fora durante o treinamento.\n",
        "\n",
        "\n",
        " Vms fazer uma função disso para deixar prático esse trabalho quando for preciso usar novamente."
      ],
      "metadata": {
        "id": "ZQz8MyzlGVDb"
      }
    },
    {
      "cell_type": "code",
      "source": [
        "def cross_validation(log_clf, cv_fold):\n",
        "  x_train, x_test, y_train, y_test = get_train_test(X, Y, ts=0.3, rs=42)\n",
        "  #cv_fold = StratifiedKFold(n_splits=10)\n",
        "  cv_logistic = cross_val_score(log_clf, x_train, y_train, cv=cv_fold, scoring='accuracy')\n",
        "  return cv_logistic\n",
        "  \n"
      ],
      "metadata": {
        "id": "_JAJYCBvAy6A"
      },
      "execution_count": 280,
      "outputs": []
    },
    {
      "cell_type": "code",
      "source": [
        "def compara_metrica(y_test, yhat, cv_logistic):\n",
        "  acc = accuracy_score(y_test, yhat) * 100\n",
        "  acc_cv = cv_logistic.mean()\n",
        "  print(f'A acurácia do modelo é {acc} e a acurácia cross validada é {acc_cv}')"
      ],
      "metadata": {
        "id": "dpTx2cAaDBgh"
      },
      "execution_count": 281,
      "outputs": []
    },
    {
      "cell_type": "code",
      "source": [
        "acc = accuracy_score(y_test, yhat) * 100"
      ],
      "metadata": {
        "id": "nGG_WjO3EKD-"
      },
      "execution_count": 282,
      "outputs": []
    },
    {
      "cell_type": "code",
      "source": [
        "cv_fold = StratifiedKFold(n_splits=10)"
      ],
      "metadata": {
        "id": "ljIhtpA454Gz"
      },
      "execution_count": 283,
      "outputs": []
    },
    {
      "cell_type": "code",
      "source": [
        "cv_logistic = cross_validation(log_clf, cv_fold)"
      ],
      "metadata": {
        "colab": {
          "base_uri": "https://localhost:8080/"
        },
        "id": "0CoSaGIN6Hs7",
        "outputId": "0f85e705-2b45-417a-80b3-6b94d9492381"
      },
      "execution_count": 284,
      "outputs": [
        {
          "output_type": "stream",
          "name": "stderr",
          "text": [
            "/usr/local/lib/python3.7/dist-packages/sklearn/linear_model/_logistic.py:818: ConvergenceWarning: lbfgs failed to converge (status=1):\n",
            "STOP: TOTAL NO. of ITERATIONS REACHED LIMIT.\n",
            "\n",
            "Increase the number of iterations (max_iter) or scale the data as shown in:\n",
            "    https://scikit-learn.org/stable/modules/preprocessing.html\n",
            "Please also refer to the documentation for alternative solver options:\n",
            "    https://scikit-learn.org/stable/modules/linear_model.html#logistic-regression\n",
            "  extra_warning_msg=_LOGISTIC_SOLVER_CONVERGENCE_MSG,\n",
            "/usr/local/lib/python3.7/dist-packages/sklearn/linear_model/_logistic.py:818: ConvergenceWarning: lbfgs failed to converge (status=1):\n",
            "STOP: TOTAL NO. of ITERATIONS REACHED LIMIT.\n",
            "\n",
            "Increase the number of iterations (max_iter) or scale the data as shown in:\n",
            "    https://scikit-learn.org/stable/modules/preprocessing.html\n",
            "Please also refer to the documentation for alternative solver options:\n",
            "    https://scikit-learn.org/stable/modules/linear_model.html#logistic-regression\n",
            "  extra_warning_msg=_LOGISTIC_SOLVER_CONVERGENCE_MSG,\n",
            "/usr/local/lib/python3.7/dist-packages/sklearn/linear_model/_logistic.py:818: ConvergenceWarning: lbfgs failed to converge (status=1):\n",
            "STOP: TOTAL NO. of ITERATIONS REACHED LIMIT.\n",
            "\n",
            "Increase the number of iterations (max_iter) or scale the data as shown in:\n",
            "    https://scikit-learn.org/stable/modules/preprocessing.html\n",
            "Please also refer to the documentation for alternative solver options:\n",
            "    https://scikit-learn.org/stable/modules/linear_model.html#logistic-regression\n",
            "  extra_warning_msg=_LOGISTIC_SOLVER_CONVERGENCE_MSG,\n",
            "/usr/local/lib/python3.7/dist-packages/sklearn/linear_model/_logistic.py:818: ConvergenceWarning: lbfgs failed to converge (status=1):\n",
            "STOP: TOTAL NO. of ITERATIONS REACHED LIMIT.\n",
            "\n",
            "Increase the number of iterations (max_iter) or scale the data as shown in:\n",
            "    https://scikit-learn.org/stable/modules/preprocessing.html\n",
            "Please also refer to the documentation for alternative solver options:\n",
            "    https://scikit-learn.org/stable/modules/linear_model.html#logistic-regression\n",
            "  extra_warning_msg=_LOGISTIC_SOLVER_CONVERGENCE_MSG,\n",
            "/usr/local/lib/python3.7/dist-packages/sklearn/linear_model/_logistic.py:818: ConvergenceWarning: lbfgs failed to converge (status=1):\n",
            "STOP: TOTAL NO. of ITERATIONS REACHED LIMIT.\n",
            "\n",
            "Increase the number of iterations (max_iter) or scale the data as shown in:\n",
            "    https://scikit-learn.org/stable/modules/preprocessing.html\n",
            "Please also refer to the documentation for alternative solver options:\n",
            "    https://scikit-learn.org/stable/modules/linear_model.html#logistic-regression\n",
            "  extra_warning_msg=_LOGISTIC_SOLVER_CONVERGENCE_MSG,\n",
            "/usr/local/lib/python3.7/dist-packages/sklearn/linear_model/_logistic.py:818: ConvergenceWarning: lbfgs failed to converge (status=1):\n",
            "STOP: TOTAL NO. of ITERATIONS REACHED LIMIT.\n",
            "\n",
            "Increase the number of iterations (max_iter) or scale the data as shown in:\n",
            "    https://scikit-learn.org/stable/modules/preprocessing.html\n",
            "Please also refer to the documentation for alternative solver options:\n",
            "    https://scikit-learn.org/stable/modules/linear_model.html#logistic-regression\n",
            "  extra_warning_msg=_LOGISTIC_SOLVER_CONVERGENCE_MSG,\n",
            "/usr/local/lib/python3.7/dist-packages/sklearn/linear_model/_logistic.py:818: ConvergenceWarning: lbfgs failed to converge (status=1):\n",
            "STOP: TOTAL NO. of ITERATIONS REACHED LIMIT.\n",
            "\n",
            "Increase the number of iterations (max_iter) or scale the data as shown in:\n",
            "    https://scikit-learn.org/stable/modules/preprocessing.html\n",
            "Please also refer to the documentation for alternative solver options:\n",
            "    https://scikit-learn.org/stable/modules/linear_model.html#logistic-regression\n",
            "  extra_warning_msg=_LOGISTIC_SOLVER_CONVERGENCE_MSG,\n",
            "/usr/local/lib/python3.7/dist-packages/sklearn/linear_model/_logistic.py:818: ConvergenceWarning: lbfgs failed to converge (status=1):\n",
            "STOP: TOTAL NO. of ITERATIONS REACHED LIMIT.\n",
            "\n",
            "Increase the number of iterations (max_iter) or scale the data as shown in:\n",
            "    https://scikit-learn.org/stable/modules/preprocessing.html\n",
            "Please also refer to the documentation for alternative solver options:\n",
            "    https://scikit-learn.org/stable/modules/linear_model.html#logistic-regression\n",
            "  extra_warning_msg=_LOGISTIC_SOLVER_CONVERGENCE_MSG,\n",
            "/usr/local/lib/python3.7/dist-packages/sklearn/linear_model/_logistic.py:818: ConvergenceWarning: lbfgs failed to converge (status=1):\n",
            "STOP: TOTAL NO. of ITERATIONS REACHED LIMIT.\n",
            "\n",
            "Increase the number of iterations (max_iter) or scale the data as shown in:\n",
            "    https://scikit-learn.org/stable/modules/preprocessing.html\n",
            "Please also refer to the documentation for alternative solver options:\n",
            "    https://scikit-learn.org/stable/modules/linear_model.html#logistic-regression\n",
            "  extra_warning_msg=_LOGISTIC_SOLVER_CONVERGENCE_MSG,\n",
            "/usr/local/lib/python3.7/dist-packages/sklearn/linear_model/_logistic.py:818: ConvergenceWarning: lbfgs failed to converge (status=1):\n",
            "STOP: TOTAL NO. of ITERATIONS REACHED LIMIT.\n",
            "\n",
            "Increase the number of iterations (max_iter) or scale the data as shown in:\n",
            "    https://scikit-learn.org/stable/modules/preprocessing.html\n",
            "Please also refer to the documentation for alternative solver options:\n",
            "    https://scikit-learn.org/stable/modules/linear_model.html#logistic-regression\n",
            "  extra_warning_msg=_LOGISTIC_SOLVER_CONVERGENCE_MSG,\n"
          ]
        }
      ]
    },
    {
      "cell_type": "code",
      "source": [],
      "metadata": {
        "id": "ZUntzBSp6HqD"
      },
      "execution_count": null,
      "outputs": []
    },
    {
      "cell_type": "code",
      "source": [
        "cv_logistic.mean()"
      ],
      "metadata": {
        "colab": {
          "base_uri": "https://localhost:8080/"
        },
        "id": "RIISlZfp1Qlc",
        "outputId": "f1198e05-21a7-49db-b67b-f9a4a80128f7"
      },
      "execution_count": 285,
      "outputs": [
        {
          "output_type": "execute_result",
          "data": {
            "text/plain": [
              "0.7114285714285714"
            ]
          },
          "metadata": {},
          "execution_count": 285
        }
      ]
    },
    {
      "cell_type": "code",
      "source": [
        "compara_metrica(y_test, yhat, cv_logistic)"
      ],
      "metadata": {
        "colab": {
          "base_uri": "https://localhost:8080/"
        },
        "id": "-_N1hT1x6Hlz",
        "outputId": "c75a5750-5a97-49a3-df6b-d18026bac505"
      },
      "execution_count": 286,
      "outputs": [
        {
          "output_type": "stream",
          "name": "stdout",
          "text": [
            "A acurácia do modelo é 72.66666666666667 e a acurácia cross validada é 0.7114285714285714\n"
          ]
        }
      ]
    },
    {
      "cell_type": "markdown",
      "source": [
        "# Grid Search"
      ],
      "metadata": {
        "id": "n962Iq2k6AJJ"
      }
    },
    {
      "cell_type": "code",
      "source": [
        "params = {\n",
        "    'max_iter': [50, 100, 500],\n",
        "    'penalty': ['l1', 'l2']\n",
        "}\n",
        "logistic = LogisticRegression()\n",
        "logict_cv = GridSearchCV(logistic, params, cv=10)\n",
        "logict_cv.fit(x_train, y_train)"
      ],
      "metadata": {
        "id": "W681khhTDBdL",
        "colab": {
          "base_uri": "https://localhost:8080/"
        },
        "outputId": "f8b54824-33ed-4ebf-89e1-a94e4eb921f1"
      },
      "execution_count": 287,
      "outputs": [
        {
          "output_type": "stream",
          "name": "stderr",
          "text": [
            "/usr/local/lib/python3.7/dist-packages/sklearn/linear_model/_logistic.py:818: ConvergenceWarning: lbfgs failed to converge (status=1):\n",
            "STOP: TOTAL NO. of ITERATIONS REACHED LIMIT.\n",
            "\n",
            "Increase the number of iterations (max_iter) or scale the data as shown in:\n",
            "    https://scikit-learn.org/stable/modules/preprocessing.html\n",
            "Please also refer to the documentation for alternative solver options:\n",
            "    https://scikit-learn.org/stable/modules/linear_model.html#logistic-regression\n",
            "  extra_warning_msg=_LOGISTIC_SOLVER_CONVERGENCE_MSG,\n",
            "/usr/local/lib/python3.7/dist-packages/sklearn/linear_model/_logistic.py:818: ConvergenceWarning: lbfgs failed to converge (status=1):\n",
            "STOP: TOTAL NO. of ITERATIONS REACHED LIMIT.\n",
            "\n",
            "Increase the number of iterations (max_iter) or scale the data as shown in:\n",
            "    https://scikit-learn.org/stable/modules/preprocessing.html\n",
            "Please also refer to the documentation for alternative solver options:\n",
            "    https://scikit-learn.org/stable/modules/linear_model.html#logistic-regression\n",
            "  extra_warning_msg=_LOGISTIC_SOLVER_CONVERGENCE_MSG,\n",
            "/usr/local/lib/python3.7/dist-packages/sklearn/linear_model/_logistic.py:818: ConvergenceWarning: lbfgs failed to converge (status=1):\n",
            "STOP: TOTAL NO. of ITERATIONS REACHED LIMIT.\n",
            "\n",
            "Increase the number of iterations (max_iter) or scale the data as shown in:\n",
            "    https://scikit-learn.org/stable/modules/preprocessing.html\n",
            "Please also refer to the documentation for alternative solver options:\n",
            "    https://scikit-learn.org/stable/modules/linear_model.html#logistic-regression\n",
            "  extra_warning_msg=_LOGISTIC_SOLVER_CONVERGENCE_MSG,\n",
            "/usr/local/lib/python3.7/dist-packages/sklearn/linear_model/_logistic.py:818: ConvergenceWarning: lbfgs failed to converge (status=1):\n",
            "STOP: TOTAL NO. of ITERATIONS REACHED LIMIT.\n",
            "\n",
            "Increase the number of iterations (max_iter) or scale the data as shown in:\n",
            "    https://scikit-learn.org/stable/modules/preprocessing.html\n",
            "Please also refer to the documentation for alternative solver options:\n",
            "    https://scikit-learn.org/stable/modules/linear_model.html#logistic-regression\n",
            "  extra_warning_msg=_LOGISTIC_SOLVER_CONVERGENCE_MSG,\n",
            "/usr/local/lib/python3.7/dist-packages/sklearn/linear_model/_logistic.py:818: ConvergenceWarning: lbfgs failed to converge (status=1):\n",
            "STOP: TOTAL NO. of ITERATIONS REACHED LIMIT.\n",
            "\n",
            "Increase the number of iterations (max_iter) or scale the data as shown in:\n",
            "    https://scikit-learn.org/stable/modules/preprocessing.html\n",
            "Please also refer to the documentation for alternative solver options:\n",
            "    https://scikit-learn.org/stable/modules/linear_model.html#logistic-regression\n",
            "  extra_warning_msg=_LOGISTIC_SOLVER_CONVERGENCE_MSG,\n",
            "/usr/local/lib/python3.7/dist-packages/sklearn/linear_model/_logistic.py:818: ConvergenceWarning: lbfgs failed to converge (status=1):\n",
            "STOP: TOTAL NO. of ITERATIONS REACHED LIMIT.\n",
            "\n",
            "Increase the number of iterations (max_iter) or scale the data as shown in:\n",
            "    https://scikit-learn.org/stable/modules/preprocessing.html\n",
            "Please also refer to the documentation for alternative solver options:\n",
            "    https://scikit-learn.org/stable/modules/linear_model.html#logistic-regression\n",
            "  extra_warning_msg=_LOGISTIC_SOLVER_CONVERGENCE_MSG,\n",
            "/usr/local/lib/python3.7/dist-packages/sklearn/linear_model/_logistic.py:818: ConvergenceWarning: lbfgs failed to converge (status=1):\n",
            "STOP: TOTAL NO. of ITERATIONS REACHED LIMIT.\n",
            "\n",
            "Increase the number of iterations (max_iter) or scale the data as shown in:\n",
            "    https://scikit-learn.org/stable/modules/preprocessing.html\n",
            "Please also refer to the documentation for alternative solver options:\n",
            "    https://scikit-learn.org/stable/modules/linear_model.html#logistic-regression\n",
            "  extra_warning_msg=_LOGISTIC_SOLVER_CONVERGENCE_MSG,\n",
            "/usr/local/lib/python3.7/dist-packages/sklearn/linear_model/_logistic.py:818: ConvergenceWarning: lbfgs failed to converge (status=1):\n",
            "STOP: TOTAL NO. of ITERATIONS REACHED LIMIT.\n",
            "\n",
            "Increase the number of iterations (max_iter) or scale the data as shown in:\n",
            "    https://scikit-learn.org/stable/modules/preprocessing.html\n",
            "Please also refer to the documentation for alternative solver options:\n",
            "    https://scikit-learn.org/stable/modules/linear_model.html#logistic-regression\n",
            "  extra_warning_msg=_LOGISTIC_SOLVER_CONVERGENCE_MSG,\n",
            "/usr/local/lib/python3.7/dist-packages/sklearn/linear_model/_logistic.py:818: ConvergenceWarning: lbfgs failed to converge (status=1):\n",
            "STOP: TOTAL NO. of ITERATIONS REACHED LIMIT.\n",
            "\n",
            "Increase the number of iterations (max_iter) or scale the data as shown in:\n",
            "    https://scikit-learn.org/stable/modules/preprocessing.html\n",
            "Please also refer to the documentation for alternative solver options:\n",
            "    https://scikit-learn.org/stable/modules/linear_model.html#logistic-regression\n",
            "  extra_warning_msg=_LOGISTIC_SOLVER_CONVERGENCE_MSG,\n",
            "/usr/local/lib/python3.7/dist-packages/sklearn/linear_model/_logistic.py:818: ConvergenceWarning: lbfgs failed to converge (status=1):\n",
            "STOP: TOTAL NO. of ITERATIONS REACHED LIMIT.\n",
            "\n",
            "Increase the number of iterations (max_iter) or scale the data as shown in:\n",
            "    https://scikit-learn.org/stable/modules/preprocessing.html\n",
            "Please also refer to the documentation for alternative solver options:\n",
            "    https://scikit-learn.org/stable/modules/linear_model.html#logistic-regression\n",
            "  extra_warning_msg=_LOGISTIC_SOLVER_CONVERGENCE_MSG,\n",
            "/usr/local/lib/python3.7/dist-packages/sklearn/linear_model/_logistic.py:818: ConvergenceWarning: lbfgs failed to converge (status=1):\n",
            "STOP: TOTAL NO. of ITERATIONS REACHED LIMIT.\n",
            "\n",
            "Increase the number of iterations (max_iter) or scale the data as shown in:\n",
            "    https://scikit-learn.org/stable/modules/preprocessing.html\n",
            "Please also refer to the documentation for alternative solver options:\n",
            "    https://scikit-learn.org/stable/modules/linear_model.html#logistic-regression\n",
            "  extra_warning_msg=_LOGISTIC_SOLVER_CONVERGENCE_MSG,\n",
            "/usr/local/lib/python3.7/dist-packages/sklearn/linear_model/_logistic.py:818: ConvergenceWarning: lbfgs failed to converge (status=1):\n",
            "STOP: TOTAL NO. of ITERATIONS REACHED LIMIT.\n",
            "\n",
            "Increase the number of iterations (max_iter) or scale the data as shown in:\n",
            "    https://scikit-learn.org/stable/modules/preprocessing.html\n",
            "Please also refer to the documentation for alternative solver options:\n",
            "    https://scikit-learn.org/stable/modules/linear_model.html#logistic-regression\n",
            "  extra_warning_msg=_LOGISTIC_SOLVER_CONVERGENCE_MSG,\n",
            "/usr/local/lib/python3.7/dist-packages/sklearn/linear_model/_logistic.py:818: ConvergenceWarning: lbfgs failed to converge (status=1):\n",
            "STOP: TOTAL NO. of ITERATIONS REACHED LIMIT.\n",
            "\n",
            "Increase the number of iterations (max_iter) or scale the data as shown in:\n",
            "    https://scikit-learn.org/stable/modules/preprocessing.html\n",
            "Please also refer to the documentation for alternative solver options:\n",
            "    https://scikit-learn.org/stable/modules/linear_model.html#logistic-regression\n",
            "  extra_warning_msg=_LOGISTIC_SOLVER_CONVERGENCE_MSG,\n",
            "/usr/local/lib/python3.7/dist-packages/sklearn/linear_model/_logistic.py:818: ConvergenceWarning: lbfgs failed to converge (status=1):\n",
            "STOP: TOTAL NO. of ITERATIONS REACHED LIMIT.\n",
            "\n",
            "Increase the number of iterations (max_iter) or scale the data as shown in:\n",
            "    https://scikit-learn.org/stable/modules/preprocessing.html\n",
            "Please also refer to the documentation for alternative solver options:\n",
            "    https://scikit-learn.org/stable/modules/linear_model.html#logistic-regression\n",
            "  extra_warning_msg=_LOGISTIC_SOLVER_CONVERGENCE_MSG,\n",
            "/usr/local/lib/python3.7/dist-packages/sklearn/linear_model/_logistic.py:818: ConvergenceWarning: lbfgs failed to converge (status=1):\n",
            "STOP: TOTAL NO. of ITERATIONS REACHED LIMIT.\n",
            "\n",
            "Increase the number of iterations (max_iter) or scale the data as shown in:\n",
            "    https://scikit-learn.org/stable/modules/preprocessing.html\n",
            "Please also refer to the documentation for alternative solver options:\n",
            "    https://scikit-learn.org/stable/modules/linear_model.html#logistic-regression\n",
            "  extra_warning_msg=_LOGISTIC_SOLVER_CONVERGENCE_MSG,\n",
            "/usr/local/lib/python3.7/dist-packages/sklearn/linear_model/_logistic.py:818: ConvergenceWarning: lbfgs failed to converge (status=1):\n",
            "STOP: TOTAL NO. of ITERATIONS REACHED LIMIT.\n",
            "\n",
            "Increase the number of iterations (max_iter) or scale the data as shown in:\n",
            "    https://scikit-learn.org/stable/modules/preprocessing.html\n",
            "Please also refer to the documentation for alternative solver options:\n",
            "    https://scikit-learn.org/stable/modules/linear_model.html#logistic-regression\n",
            "  extra_warning_msg=_LOGISTIC_SOLVER_CONVERGENCE_MSG,\n",
            "/usr/local/lib/python3.7/dist-packages/sklearn/linear_model/_logistic.py:818: ConvergenceWarning: lbfgs failed to converge (status=1):\n",
            "STOP: TOTAL NO. of ITERATIONS REACHED LIMIT.\n",
            "\n",
            "Increase the number of iterations (max_iter) or scale the data as shown in:\n",
            "    https://scikit-learn.org/stable/modules/preprocessing.html\n",
            "Please also refer to the documentation for alternative solver options:\n",
            "    https://scikit-learn.org/stable/modules/linear_model.html#logistic-regression\n",
            "  extra_warning_msg=_LOGISTIC_SOLVER_CONVERGENCE_MSG,\n",
            "/usr/local/lib/python3.7/dist-packages/sklearn/linear_model/_logistic.py:818: ConvergenceWarning: lbfgs failed to converge (status=1):\n",
            "STOP: TOTAL NO. of ITERATIONS REACHED LIMIT.\n",
            "\n",
            "Increase the number of iterations (max_iter) or scale the data as shown in:\n",
            "    https://scikit-learn.org/stable/modules/preprocessing.html\n",
            "Please also refer to the documentation for alternative solver options:\n",
            "    https://scikit-learn.org/stable/modules/linear_model.html#logistic-regression\n",
            "  extra_warning_msg=_LOGISTIC_SOLVER_CONVERGENCE_MSG,\n",
            "/usr/local/lib/python3.7/dist-packages/sklearn/linear_model/_logistic.py:818: ConvergenceWarning: lbfgs failed to converge (status=1):\n",
            "STOP: TOTAL NO. of ITERATIONS REACHED LIMIT.\n",
            "\n",
            "Increase the number of iterations (max_iter) or scale the data as shown in:\n",
            "    https://scikit-learn.org/stable/modules/preprocessing.html\n",
            "Please also refer to the documentation for alternative solver options:\n",
            "    https://scikit-learn.org/stable/modules/linear_model.html#logistic-regression\n",
            "  extra_warning_msg=_LOGISTIC_SOLVER_CONVERGENCE_MSG,\n",
            "/usr/local/lib/python3.7/dist-packages/sklearn/linear_model/_logistic.py:818: ConvergenceWarning: lbfgs failed to converge (status=1):\n",
            "STOP: TOTAL NO. of ITERATIONS REACHED LIMIT.\n",
            "\n",
            "Increase the number of iterations (max_iter) or scale the data as shown in:\n",
            "    https://scikit-learn.org/stable/modules/preprocessing.html\n",
            "Please also refer to the documentation for alternative solver options:\n",
            "    https://scikit-learn.org/stable/modules/linear_model.html#logistic-regression\n",
            "  extra_warning_msg=_LOGISTIC_SOLVER_CONVERGENCE_MSG,\n",
            "/usr/local/lib/python3.7/dist-packages/sklearn/model_selection/_validation.py:372: FitFailedWarning: \n",
            "30 fits failed out of a total of 60.\n",
            "The score on these train-test partitions for these parameters will be set to nan.\n",
            "If these failures are not expected, you can try to debug them by setting error_score='raise'.\n",
            "\n",
            "Below are more details about the failures:\n",
            "--------------------------------------------------------------------------------\n",
            "30 fits failed with the following error:\n",
            "Traceback (most recent call last):\n",
            "  File \"/usr/local/lib/python3.7/dist-packages/sklearn/model_selection/_validation.py\", line 680, in _fit_and_score\n",
            "    estimator.fit(X_train, y_train, **fit_params)\n",
            "  File \"/usr/local/lib/python3.7/dist-packages/sklearn/linear_model/_logistic.py\", line 1461, in fit\n",
            "    solver = _check_solver(self.solver, self.penalty, self.dual)\n",
            "  File \"/usr/local/lib/python3.7/dist-packages/sklearn/linear_model/_logistic.py\", line 449, in _check_solver\n",
            "    % (solver, penalty)\n",
            "ValueError: Solver lbfgs supports only 'l2' or 'none' penalties, got l1 penalty.\n",
            "\n",
            "  warnings.warn(some_fits_failed_message, FitFailedWarning)\n",
            "/usr/local/lib/python3.7/dist-packages/sklearn/model_selection/_search.py:972: UserWarning: One or more of the test scores are non-finite: [       nan 0.71857143        nan 0.71142857        nan 0.71571429]\n",
            "  category=UserWarning,\n",
            "/usr/local/lib/python3.7/dist-packages/sklearn/linear_model/_logistic.py:818: ConvergenceWarning: lbfgs failed to converge (status=1):\n",
            "STOP: TOTAL NO. of ITERATIONS REACHED LIMIT.\n",
            "\n",
            "Increase the number of iterations (max_iter) or scale the data as shown in:\n",
            "    https://scikit-learn.org/stable/modules/preprocessing.html\n",
            "Please also refer to the documentation for alternative solver options:\n",
            "    https://scikit-learn.org/stable/modules/linear_model.html#logistic-regression\n",
            "  extra_warning_msg=_LOGISTIC_SOLVER_CONVERGENCE_MSG,\n"
          ]
        },
        {
          "output_type": "execute_result",
          "data": {
            "text/plain": [
              "GridSearchCV(cv=10, estimator=LogisticRegression(),\n",
              "             param_grid={'max_iter': [50, 100, 500], 'penalty': ['l1', 'l2']})"
            ]
          },
          "metadata": {},
          "execution_count": 287
        }
      ]
    },
    {
      "cell_type": "code",
      "source": [
        "logict_cv.best_score_\n"
      ],
      "metadata": {
        "id": "6_4J91m7DkV1",
        "colab": {
          "base_uri": "https://localhost:8080/"
        },
        "outputId": "9200a3d9-1c88-44d5-f250-453e7ad2a1e5"
      },
      "execution_count": 288,
      "outputs": [
        {
          "output_type": "execute_result",
          "data": {
            "text/plain": [
              "0.7185714285714286"
            ]
          },
          "metadata": {},
          "execution_count": 288
        }
      ]
    },
    {
      "cell_type": "code",
      "source": [
        "logict_cv.best_params_"
      ],
      "metadata": {
        "id": "21QzY6mhDoBW",
        "colab": {
          "base_uri": "https://localhost:8080/"
        },
        "outputId": "c3907dd7-5c16-4c79-86c5-a6d8e7c60bdd"
      },
      "execution_count": 289,
      "outputs": [
        {
          "output_type": "execute_result",
          "data": {
            "text/plain": [
              "{'max_iter': 50, 'penalty': 'l2'}"
            ]
          },
          "metadata": {},
          "execution_count": 289
        }
      ]
    },
    {
      "cell_type": "code",
      "source": [
        "yhat = logict_cv.predict(x_test)"
      ],
      "metadata": {
        "id": "68lvrum1Dn-d"
      },
      "execution_count": 290,
      "outputs": []
    },
    {
      "cell_type": "code",
      "source": [
        "yhat"
      ],
      "metadata": {
        "colab": {
          "base_uri": "https://localhost:8080/"
        },
        "id": "7lSgy_ZQEv1Y",
        "outputId": "24aacfb4-985a-4b81-bef7-a38afd927956"
      },
      "execution_count": 291,
      "outputs": [
        {
          "output_type": "execute_result",
          "data": {
            "text/plain": [
              "array([0, 0, 0, 0, 0, 0, 0, 0, 0, 1, 0, 0, 0, 1, 0, 1, 0, 1, 0, 0, 1, 0,\n",
              "       0, 0, 0, 0, 0, 0, 0, 0, 0, 1, 0, 0, 0, 1, 0, 0, 0, 0, 0, 0, 0, 0,\n",
              "       0, 0, 0, 0, 0, 0, 0, 1, 0, 0, 1, 1, 0, 0, 0, 0, 0, 0, 1, 0, 0, 0,\n",
              "       0, 0, 0, 0, 1, 0, 0, 0, 0, 0, 0, 0, 0, 0, 0, 0, 0, 0, 0, 0, 0, 0,\n",
              "       0, 0, 0, 1, 0, 0, 0, 0, 0, 0, 0, 0, 1, 0, 0, 0, 0, 0, 0, 0, 0, 0,\n",
              "       0, 0, 1, 1, 0, 0, 1, 0, 0, 0, 1, 0, 0, 0, 0, 0, 0, 0, 0, 0, 0, 0,\n",
              "       0, 1, 0, 0, 0, 0, 0, 0, 0, 0, 0, 0, 1, 0, 1, 1, 0, 0, 0, 0, 0, 0,\n",
              "       0, 0, 0, 0, 0, 0, 0, 0, 1, 0, 0, 0, 0, 0, 0, 0, 0, 0, 1, 1, 0, 0,\n",
              "       0, 0, 0, 0, 0, 0, 1, 0, 0, 0, 1, 1, 0, 0, 0, 1, 0, 0, 0, 0, 0, 0,\n",
              "       1, 1, 0, 1, 0, 0, 0, 1, 0, 0, 0, 0, 1, 0, 1, 0, 1, 0, 1, 0, 0, 0,\n",
              "       0, 0, 0, 0, 0, 0, 0, 1, 1, 0, 0, 0, 0, 0, 0, 0, 0, 1, 0, 0, 1, 0,\n",
              "       0, 0, 0, 0, 0, 0, 0, 0, 1, 0, 0, 0, 1, 0, 0, 0, 0, 0, 0, 0, 0, 0,\n",
              "       0, 0, 0, 0, 1, 0, 1, 0, 1, 0, 0, 0, 1, 0, 0, 0, 0, 0, 0, 1, 0, 0,\n",
              "       0, 0, 0, 0, 0, 0, 0, 0, 0, 0, 0, 0, 0, 0])"
            ]
          },
          "metadata": {},
          "execution_count": 291
        }
      ]
    },
    {
      "cell_type": "code",
      "source": [],
      "metadata": {
        "id": "3ectbs9faPav"
      },
      "execution_count": null,
      "outputs": []
    },
    {
      "cell_type": "code",
      "source": [
        "cred.to_csv(\"cred.csv\")\n",
        "\n"
      ],
      "metadata": {
        "id": "TV3Fe4LzaPOI"
      },
      "execution_count": null,
      "outputs": []
    }
  ]
}